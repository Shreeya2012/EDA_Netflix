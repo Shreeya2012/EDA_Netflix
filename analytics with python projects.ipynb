{
 "cells": [
  {
   "cell_type": "markdown",
   "metadata": {},
   "source": [
    "This Netflix dataset has information about the TV shows and movies on netflix till 2021"
   ]
  },
  {
   "cell_type": "markdown",
   "metadata": {},
   "source": [
    "importing the dataset\n"
   ]
  },
  {
   "cell_type": "code",
   "execution_count": 1,
   "metadata": {},
   "outputs": [],
   "source": [
    "import pandas as pd\n",
    "data=pd.read_csv(r\"C:\\Users\\Shreeya Thakur\\Downloads\\8. Netflix Dataset.csv\")"
   ]
  },
  {
   "cell_type": "code",
   "execution_count": 2,
   "metadata": {},
   "outputs": [
    {
     "data": {
      "text/html": [
       "<div>\n",
       "<style scoped>\n",
       "    .dataframe tbody tr th:only-of-type {\n",
       "        vertical-align: middle;\n",
       "    }\n",
       "\n",
       "    .dataframe tbody tr th {\n",
       "        vertical-align: top;\n",
       "    }\n",
       "\n",
       "    .dataframe thead th {\n",
       "        text-align: right;\n",
       "    }\n",
       "</style>\n",
       "<table border=\"1\" class=\"dataframe\">\n",
       "  <thead>\n",
       "    <tr style=\"text-align: right;\">\n",
       "      <th></th>\n",
       "      <th>Show_Id</th>\n",
       "      <th>Category</th>\n",
       "      <th>Title</th>\n",
       "      <th>Director</th>\n",
       "      <th>Cast</th>\n",
       "      <th>Country</th>\n",
       "      <th>Release_Date</th>\n",
       "      <th>Rating</th>\n",
       "      <th>Duration</th>\n",
       "      <th>Type</th>\n",
       "      <th>Description</th>\n",
       "    </tr>\n",
       "  </thead>\n",
       "  <tbody>\n",
       "    <tr>\n",
       "      <th>0</th>\n",
       "      <td>s1</td>\n",
       "      <td>TV Show</td>\n",
       "      <td>3%</td>\n",
       "      <td>NaN</td>\n",
       "      <td>João Miguel, Bianca Comparato, Michel Gomes, R...</td>\n",
       "      <td>Brazil</td>\n",
       "      <td>August 14, 2020</td>\n",
       "      <td>TV-MA</td>\n",
       "      <td>4 Seasons</td>\n",
       "      <td>International TV Shows, TV Dramas, TV Sci-Fi &amp;...</td>\n",
       "      <td>In a future where the elite inhabit an island ...</td>\n",
       "    </tr>\n",
       "    <tr>\n",
       "      <th>1</th>\n",
       "      <td>s2</td>\n",
       "      <td>Movie</td>\n",
       "      <td>07:19</td>\n",
       "      <td>Jorge Michel Grau</td>\n",
       "      <td>Demián Bichir, Héctor Bonilla, Oscar Serrano, ...</td>\n",
       "      <td>Mexico</td>\n",
       "      <td>December 23, 2016</td>\n",
       "      <td>TV-MA</td>\n",
       "      <td>93 min</td>\n",
       "      <td>Dramas, International Movies</td>\n",
       "      <td>After a devastating earthquake hits Mexico Cit...</td>\n",
       "    </tr>\n",
       "    <tr>\n",
       "      <th>2</th>\n",
       "      <td>s3</td>\n",
       "      <td>Movie</td>\n",
       "      <td>23:59</td>\n",
       "      <td>Gilbert Chan</td>\n",
       "      <td>Tedd Chan, Stella Chung, Henley Hii, Lawrence ...</td>\n",
       "      <td>Singapore</td>\n",
       "      <td>December 20, 2018</td>\n",
       "      <td>R</td>\n",
       "      <td>78 min</td>\n",
       "      <td>Horror Movies, International Movies</td>\n",
       "      <td>When an army recruit is found dead, his fellow...</td>\n",
       "    </tr>\n",
       "    <tr>\n",
       "      <th>3</th>\n",
       "      <td>s4</td>\n",
       "      <td>Movie</td>\n",
       "      <td>9</td>\n",
       "      <td>Shane Acker</td>\n",
       "      <td>Elijah Wood, John C. Reilly, Jennifer Connelly...</td>\n",
       "      <td>United States</td>\n",
       "      <td>November 16, 2017</td>\n",
       "      <td>PG-13</td>\n",
       "      <td>80 min</td>\n",
       "      <td>Action &amp; Adventure, Independent Movies, Sci-Fi...</td>\n",
       "      <td>In a postapocalyptic world, rag-doll robots hi...</td>\n",
       "    </tr>\n",
       "    <tr>\n",
       "      <th>4</th>\n",
       "      <td>s5</td>\n",
       "      <td>Movie</td>\n",
       "      <td>21</td>\n",
       "      <td>Robert Luketic</td>\n",
       "      <td>Jim Sturgess, Kevin Spacey, Kate Bosworth, Aar...</td>\n",
       "      <td>United States</td>\n",
       "      <td>January 1, 2020</td>\n",
       "      <td>PG-13</td>\n",
       "      <td>123 min</td>\n",
       "      <td>Dramas</td>\n",
       "      <td>A brilliant group of students become card-coun...</td>\n",
       "    </tr>\n",
       "    <tr>\n",
       "      <th>...</th>\n",
       "      <td>...</td>\n",
       "      <td>...</td>\n",
       "      <td>...</td>\n",
       "      <td>...</td>\n",
       "      <td>...</td>\n",
       "      <td>...</td>\n",
       "      <td>...</td>\n",
       "      <td>...</td>\n",
       "      <td>...</td>\n",
       "      <td>...</td>\n",
       "      <td>...</td>\n",
       "    </tr>\n",
       "    <tr>\n",
       "      <th>7784</th>\n",
       "      <td>s7783</td>\n",
       "      <td>Movie</td>\n",
       "      <td>Zozo</td>\n",
       "      <td>Josef Fares</td>\n",
       "      <td>Imad Creidi, Antoinette Turk, Elias Gergi, Car...</td>\n",
       "      <td>Sweden, Czech Republic, United Kingdom, Denmar...</td>\n",
       "      <td>October 19, 2020</td>\n",
       "      <td>TV-MA</td>\n",
       "      <td>99 min</td>\n",
       "      <td>Dramas, International Movies</td>\n",
       "      <td>When Lebanon's Civil War deprives Zozo of his ...</td>\n",
       "    </tr>\n",
       "    <tr>\n",
       "      <th>7785</th>\n",
       "      <td>s7784</td>\n",
       "      <td>Movie</td>\n",
       "      <td>Zubaan</td>\n",
       "      <td>Mozez Singh</td>\n",
       "      <td>Vicky Kaushal, Sarah-Jane Dias, Raaghav Chanan...</td>\n",
       "      <td>India</td>\n",
       "      <td>March 2, 2019</td>\n",
       "      <td>TV-14</td>\n",
       "      <td>111 min</td>\n",
       "      <td>Dramas, International Movies, Music &amp; Musicals</td>\n",
       "      <td>A scrappy but poor boy worms his way into a ty...</td>\n",
       "    </tr>\n",
       "    <tr>\n",
       "      <th>7786</th>\n",
       "      <td>s7785</td>\n",
       "      <td>Movie</td>\n",
       "      <td>Zulu Man in Japan</td>\n",
       "      <td>NaN</td>\n",
       "      <td>Nasty C</td>\n",
       "      <td>NaN</td>\n",
       "      <td>September 25, 2020</td>\n",
       "      <td>TV-MA</td>\n",
       "      <td>44 min</td>\n",
       "      <td>Documentaries, International Movies, Music &amp; M...</td>\n",
       "      <td>In this documentary, South African rapper Nast...</td>\n",
       "    </tr>\n",
       "    <tr>\n",
       "      <th>7787</th>\n",
       "      <td>s7786</td>\n",
       "      <td>TV Show</td>\n",
       "      <td>Zumbo's Just Desserts</td>\n",
       "      <td>NaN</td>\n",
       "      <td>Adriano Zumbo, Rachel Khoo</td>\n",
       "      <td>Australia</td>\n",
       "      <td>October 31, 2020</td>\n",
       "      <td>TV-PG</td>\n",
       "      <td>1 Season</td>\n",
       "      <td>International TV Shows, Reality TV</td>\n",
       "      <td>Dessert wizard Adriano Zumbo looks for the nex...</td>\n",
       "    </tr>\n",
       "    <tr>\n",
       "      <th>7788</th>\n",
       "      <td>s7787</td>\n",
       "      <td>Movie</td>\n",
       "      <td>ZZ TOP: THAT LITTLE OL' BAND FROM TEXAS</td>\n",
       "      <td>Sam Dunn</td>\n",
       "      <td>NaN</td>\n",
       "      <td>United Kingdom, Canada, United States</td>\n",
       "      <td>March 1, 2020</td>\n",
       "      <td>TV-MA</td>\n",
       "      <td>90 min</td>\n",
       "      <td>Documentaries, Music &amp; Musicals</td>\n",
       "      <td>This documentary delves into the mystique behi...</td>\n",
       "    </tr>\n",
       "  </tbody>\n",
       "</table>\n",
       "<p>7789 rows × 11 columns</p>\n",
       "</div>"
      ],
      "text/plain": [
       "     Show_Id Category                                    Title  \\\n",
       "0         s1  TV Show                                       3%   \n",
       "1         s2    Movie                                    07:19   \n",
       "2         s3    Movie                                    23:59   \n",
       "3         s4    Movie                                        9   \n",
       "4         s5    Movie                                       21   \n",
       "...      ...      ...                                      ...   \n",
       "7784   s7783    Movie                                     Zozo   \n",
       "7785   s7784    Movie                                   Zubaan   \n",
       "7786   s7785    Movie                        Zulu Man in Japan   \n",
       "7787   s7786  TV Show                    Zumbo's Just Desserts   \n",
       "7788   s7787    Movie  ZZ TOP: THAT LITTLE OL' BAND FROM TEXAS   \n",
       "\n",
       "               Director                                               Cast  \\\n",
       "0                   NaN  João Miguel, Bianca Comparato, Michel Gomes, R...   \n",
       "1     Jorge Michel Grau  Demián Bichir, Héctor Bonilla, Oscar Serrano, ...   \n",
       "2          Gilbert Chan  Tedd Chan, Stella Chung, Henley Hii, Lawrence ...   \n",
       "3           Shane Acker  Elijah Wood, John C. Reilly, Jennifer Connelly...   \n",
       "4        Robert Luketic  Jim Sturgess, Kevin Spacey, Kate Bosworth, Aar...   \n",
       "...                 ...                                                ...   \n",
       "7784        Josef Fares  Imad Creidi, Antoinette Turk, Elias Gergi, Car...   \n",
       "7785        Mozez Singh  Vicky Kaushal, Sarah-Jane Dias, Raaghav Chanan...   \n",
       "7786                NaN                                            Nasty C   \n",
       "7787                NaN                         Adriano Zumbo, Rachel Khoo   \n",
       "7788           Sam Dunn                                                NaN   \n",
       "\n",
       "                                                Country        Release_Date  \\\n",
       "0                                                Brazil     August 14, 2020   \n",
       "1                                                Mexico   December 23, 2016   \n",
       "2                                             Singapore   December 20, 2018   \n",
       "3                                         United States   November 16, 2017   \n",
       "4                                         United States     January 1, 2020   \n",
       "...                                                 ...                 ...   \n",
       "7784  Sweden, Czech Republic, United Kingdom, Denmar...    October 19, 2020   \n",
       "7785                                              India       March 2, 2019   \n",
       "7786                                                NaN  September 25, 2020   \n",
       "7787                                          Australia    October 31, 2020   \n",
       "7788              United Kingdom, Canada, United States       March 1, 2020   \n",
       "\n",
       "     Rating   Duration                                               Type  \\\n",
       "0     TV-MA  4 Seasons  International TV Shows, TV Dramas, TV Sci-Fi &...   \n",
       "1     TV-MA     93 min                       Dramas, International Movies   \n",
       "2         R     78 min                Horror Movies, International Movies   \n",
       "3     PG-13     80 min  Action & Adventure, Independent Movies, Sci-Fi...   \n",
       "4     PG-13    123 min                                             Dramas   \n",
       "...     ...        ...                                                ...   \n",
       "7784  TV-MA     99 min                       Dramas, International Movies   \n",
       "7785  TV-14    111 min     Dramas, International Movies, Music & Musicals   \n",
       "7786  TV-MA     44 min  Documentaries, International Movies, Music & M...   \n",
       "7787  TV-PG   1 Season                 International TV Shows, Reality TV   \n",
       "7788  TV-MA     90 min                    Documentaries, Music & Musicals   \n",
       "\n",
       "                                            Description  \n",
       "0     In a future where the elite inhabit an island ...  \n",
       "1     After a devastating earthquake hits Mexico Cit...  \n",
       "2     When an army recruit is found dead, his fellow...  \n",
       "3     In a postapocalyptic world, rag-doll robots hi...  \n",
       "4     A brilliant group of students become card-coun...  \n",
       "...                                                 ...  \n",
       "7784  When Lebanon's Civil War deprives Zozo of his ...  \n",
       "7785  A scrappy but poor boy worms his way into a ty...  \n",
       "7786  In this documentary, South African rapper Nast...  \n",
       "7787  Dessert wizard Adriano Zumbo looks for the nex...  \n",
       "7788  This documentary delves into the mystique behi...  \n",
       "\n",
       "[7789 rows x 11 columns]"
      ]
     },
     "execution_count": 2,
     "metadata": {},
     "output_type": "execute_result"
    }
   ],
   "source": [
    "data"
   ]
  },
  {
   "cell_type": "markdown",
   "metadata": {},
   "source": [
    "Getting some basic information about the dataset"
   ]
  },
  {
   "cell_type": "markdown",
   "metadata": {},
   "source": [
    "1.head()"
   ]
  },
  {
   "cell_type": "code",
   "execution_count": 4,
   "metadata": {},
   "outputs": [
    {
     "data": {
      "text/html": [
       "<div>\n",
       "<style scoped>\n",
       "    .dataframe tbody tr th:only-of-type {\n",
       "        vertical-align: middle;\n",
       "    }\n",
       "\n",
       "    .dataframe tbody tr th {\n",
       "        vertical-align: top;\n",
       "    }\n",
       "\n",
       "    .dataframe thead th {\n",
       "        text-align: right;\n",
       "    }\n",
       "</style>\n",
       "<table border=\"1\" class=\"dataframe\">\n",
       "  <thead>\n",
       "    <tr style=\"text-align: right;\">\n",
       "      <th></th>\n",
       "      <th>Show_Id</th>\n",
       "      <th>Category</th>\n",
       "      <th>Title</th>\n",
       "      <th>Director</th>\n",
       "      <th>Cast</th>\n",
       "      <th>Country</th>\n",
       "      <th>Release_Date</th>\n",
       "      <th>Rating</th>\n",
       "      <th>Duration</th>\n",
       "      <th>Type</th>\n",
       "      <th>Description</th>\n",
       "    </tr>\n",
       "  </thead>\n",
       "  <tbody>\n",
       "    <tr>\n",
       "      <th>0</th>\n",
       "      <td>s1</td>\n",
       "      <td>TV Show</td>\n",
       "      <td>3%</td>\n",
       "      <td>NaN</td>\n",
       "      <td>João Miguel, Bianca Comparato, Michel Gomes, R...</td>\n",
       "      <td>Brazil</td>\n",
       "      <td>August 14, 2020</td>\n",
       "      <td>TV-MA</td>\n",
       "      <td>4 Seasons</td>\n",
       "      <td>International TV Shows, TV Dramas, TV Sci-Fi &amp;...</td>\n",
       "      <td>In a future where the elite inhabit an island ...</td>\n",
       "    </tr>\n",
       "    <tr>\n",
       "      <th>1</th>\n",
       "      <td>s2</td>\n",
       "      <td>Movie</td>\n",
       "      <td>07:19</td>\n",
       "      <td>Jorge Michel Grau</td>\n",
       "      <td>Demián Bichir, Héctor Bonilla, Oscar Serrano, ...</td>\n",
       "      <td>Mexico</td>\n",
       "      <td>December 23, 2016</td>\n",
       "      <td>TV-MA</td>\n",
       "      <td>93 min</td>\n",
       "      <td>Dramas, International Movies</td>\n",
       "      <td>After a devastating earthquake hits Mexico Cit...</td>\n",
       "    </tr>\n",
       "    <tr>\n",
       "      <th>2</th>\n",
       "      <td>s3</td>\n",
       "      <td>Movie</td>\n",
       "      <td>23:59</td>\n",
       "      <td>Gilbert Chan</td>\n",
       "      <td>Tedd Chan, Stella Chung, Henley Hii, Lawrence ...</td>\n",
       "      <td>Singapore</td>\n",
       "      <td>December 20, 2018</td>\n",
       "      <td>R</td>\n",
       "      <td>78 min</td>\n",
       "      <td>Horror Movies, International Movies</td>\n",
       "      <td>When an army recruit is found dead, his fellow...</td>\n",
       "    </tr>\n",
       "    <tr>\n",
       "      <th>3</th>\n",
       "      <td>s4</td>\n",
       "      <td>Movie</td>\n",
       "      <td>9</td>\n",
       "      <td>Shane Acker</td>\n",
       "      <td>Elijah Wood, John C. Reilly, Jennifer Connelly...</td>\n",
       "      <td>United States</td>\n",
       "      <td>November 16, 2017</td>\n",
       "      <td>PG-13</td>\n",
       "      <td>80 min</td>\n",
       "      <td>Action &amp; Adventure, Independent Movies, Sci-Fi...</td>\n",
       "      <td>In a postapocalyptic world, rag-doll robots hi...</td>\n",
       "    </tr>\n",
       "    <tr>\n",
       "      <th>4</th>\n",
       "      <td>s5</td>\n",
       "      <td>Movie</td>\n",
       "      <td>21</td>\n",
       "      <td>Robert Luketic</td>\n",
       "      <td>Jim Sturgess, Kevin Spacey, Kate Bosworth, Aar...</td>\n",
       "      <td>United States</td>\n",
       "      <td>January 1, 2020</td>\n",
       "      <td>PG-13</td>\n",
       "      <td>123 min</td>\n",
       "      <td>Dramas</td>\n",
       "      <td>A brilliant group of students become card-coun...</td>\n",
       "    </tr>\n",
       "  </tbody>\n",
       "</table>\n",
       "</div>"
      ],
      "text/plain": [
       "  Show_Id Category  Title           Director  \\\n",
       "0      s1  TV Show     3%                NaN   \n",
       "1      s2    Movie  07:19  Jorge Michel Grau   \n",
       "2      s3    Movie  23:59       Gilbert Chan   \n",
       "3      s4    Movie      9        Shane Acker   \n",
       "4      s5    Movie     21     Robert Luketic   \n",
       "\n",
       "                                                Cast        Country  \\\n",
       "0  João Miguel, Bianca Comparato, Michel Gomes, R...         Brazil   \n",
       "1  Demián Bichir, Héctor Bonilla, Oscar Serrano, ...         Mexico   \n",
       "2  Tedd Chan, Stella Chung, Henley Hii, Lawrence ...      Singapore   \n",
       "3  Elijah Wood, John C. Reilly, Jennifer Connelly...  United States   \n",
       "4  Jim Sturgess, Kevin Spacey, Kate Bosworth, Aar...  United States   \n",
       "\n",
       "        Release_Date Rating   Duration  \\\n",
       "0    August 14, 2020  TV-MA  4 Seasons   \n",
       "1  December 23, 2016  TV-MA     93 min   \n",
       "2  December 20, 2018      R     78 min   \n",
       "3  November 16, 2017  PG-13     80 min   \n",
       "4    January 1, 2020  PG-13    123 min   \n",
       "\n",
       "                                                Type  \\\n",
       "0  International TV Shows, TV Dramas, TV Sci-Fi &...   \n",
       "1                       Dramas, International Movies   \n",
       "2                Horror Movies, International Movies   \n",
       "3  Action & Adventure, Independent Movies, Sci-Fi...   \n",
       "4                                             Dramas   \n",
       "\n",
       "                                         Description  \n",
       "0  In a future where the elite inhabit an island ...  \n",
       "1  After a devastating earthquake hits Mexico Cit...  \n",
       "2  When an army recruit is found dead, his fellow...  \n",
       "3  In a postapocalyptic world, rag-doll robots hi...  \n",
       "4  A brilliant group of students become card-coun...  "
      ]
     },
     "execution_count": 4,
     "metadata": {},
     "output_type": "execute_result"
    }
   ],
   "source": [
    "data.head()      #to show top 5 records of the dataset"
   ]
  },
  {
   "cell_type": "markdown",
   "metadata": {},
   "source": [
    "2.tail()"
   ]
  },
  {
   "cell_type": "code",
   "execution_count": 5,
   "metadata": {},
   "outputs": [
    {
     "data": {
      "text/html": [
       "<div>\n",
       "<style scoped>\n",
       "    .dataframe tbody tr th:only-of-type {\n",
       "        vertical-align: middle;\n",
       "    }\n",
       "\n",
       "    .dataframe tbody tr th {\n",
       "        vertical-align: top;\n",
       "    }\n",
       "\n",
       "    .dataframe thead th {\n",
       "        text-align: right;\n",
       "    }\n",
       "</style>\n",
       "<table border=\"1\" class=\"dataframe\">\n",
       "  <thead>\n",
       "    <tr style=\"text-align: right;\">\n",
       "      <th></th>\n",
       "      <th>Show_Id</th>\n",
       "      <th>Category</th>\n",
       "      <th>Title</th>\n",
       "      <th>Director</th>\n",
       "      <th>Cast</th>\n",
       "      <th>Country</th>\n",
       "      <th>Release_Date</th>\n",
       "      <th>Rating</th>\n",
       "      <th>Duration</th>\n",
       "      <th>Type</th>\n",
       "      <th>Description</th>\n",
       "    </tr>\n",
       "  </thead>\n",
       "  <tbody>\n",
       "    <tr>\n",
       "      <th>7784</th>\n",
       "      <td>s7783</td>\n",
       "      <td>Movie</td>\n",
       "      <td>Zozo</td>\n",
       "      <td>Josef Fares</td>\n",
       "      <td>Imad Creidi, Antoinette Turk, Elias Gergi, Car...</td>\n",
       "      <td>Sweden, Czech Republic, United Kingdom, Denmar...</td>\n",
       "      <td>October 19, 2020</td>\n",
       "      <td>TV-MA</td>\n",
       "      <td>99 min</td>\n",
       "      <td>Dramas, International Movies</td>\n",
       "      <td>When Lebanon's Civil War deprives Zozo of his ...</td>\n",
       "    </tr>\n",
       "    <tr>\n",
       "      <th>7785</th>\n",
       "      <td>s7784</td>\n",
       "      <td>Movie</td>\n",
       "      <td>Zubaan</td>\n",
       "      <td>Mozez Singh</td>\n",
       "      <td>Vicky Kaushal, Sarah-Jane Dias, Raaghav Chanan...</td>\n",
       "      <td>India</td>\n",
       "      <td>March 2, 2019</td>\n",
       "      <td>TV-14</td>\n",
       "      <td>111 min</td>\n",
       "      <td>Dramas, International Movies, Music &amp; Musicals</td>\n",
       "      <td>A scrappy but poor boy worms his way into a ty...</td>\n",
       "    </tr>\n",
       "    <tr>\n",
       "      <th>7786</th>\n",
       "      <td>s7785</td>\n",
       "      <td>Movie</td>\n",
       "      <td>Zulu Man in Japan</td>\n",
       "      <td>NaN</td>\n",
       "      <td>Nasty C</td>\n",
       "      <td>NaN</td>\n",
       "      <td>September 25, 2020</td>\n",
       "      <td>TV-MA</td>\n",
       "      <td>44 min</td>\n",
       "      <td>Documentaries, International Movies, Music &amp; M...</td>\n",
       "      <td>In this documentary, South African rapper Nast...</td>\n",
       "    </tr>\n",
       "    <tr>\n",
       "      <th>7787</th>\n",
       "      <td>s7786</td>\n",
       "      <td>TV Show</td>\n",
       "      <td>Zumbo's Just Desserts</td>\n",
       "      <td>NaN</td>\n",
       "      <td>Adriano Zumbo, Rachel Khoo</td>\n",
       "      <td>Australia</td>\n",
       "      <td>October 31, 2020</td>\n",
       "      <td>TV-PG</td>\n",
       "      <td>1 Season</td>\n",
       "      <td>International TV Shows, Reality TV</td>\n",
       "      <td>Dessert wizard Adriano Zumbo looks for the nex...</td>\n",
       "    </tr>\n",
       "    <tr>\n",
       "      <th>7788</th>\n",
       "      <td>s7787</td>\n",
       "      <td>Movie</td>\n",
       "      <td>ZZ TOP: THAT LITTLE OL' BAND FROM TEXAS</td>\n",
       "      <td>Sam Dunn</td>\n",
       "      <td>NaN</td>\n",
       "      <td>United Kingdom, Canada, United States</td>\n",
       "      <td>March 1, 2020</td>\n",
       "      <td>TV-MA</td>\n",
       "      <td>90 min</td>\n",
       "      <td>Documentaries, Music &amp; Musicals</td>\n",
       "      <td>This documentary delves into the mystique behi...</td>\n",
       "    </tr>\n",
       "  </tbody>\n",
       "</table>\n",
       "</div>"
      ],
      "text/plain": [
       "     Show_Id Category                                    Title     Director  \\\n",
       "7784   s7783    Movie                                     Zozo  Josef Fares   \n",
       "7785   s7784    Movie                                   Zubaan  Mozez Singh   \n",
       "7786   s7785    Movie                        Zulu Man in Japan          NaN   \n",
       "7787   s7786  TV Show                    Zumbo's Just Desserts          NaN   \n",
       "7788   s7787    Movie  ZZ TOP: THAT LITTLE OL' BAND FROM TEXAS     Sam Dunn   \n",
       "\n",
       "                                                   Cast  \\\n",
       "7784  Imad Creidi, Antoinette Turk, Elias Gergi, Car...   \n",
       "7785  Vicky Kaushal, Sarah-Jane Dias, Raaghav Chanan...   \n",
       "7786                                            Nasty C   \n",
       "7787                         Adriano Zumbo, Rachel Khoo   \n",
       "7788                                                NaN   \n",
       "\n",
       "                                                Country        Release_Date  \\\n",
       "7784  Sweden, Czech Republic, United Kingdom, Denmar...    October 19, 2020   \n",
       "7785                                              India       March 2, 2019   \n",
       "7786                                                NaN  September 25, 2020   \n",
       "7787                                          Australia    October 31, 2020   \n",
       "7788              United Kingdom, Canada, United States       March 1, 2020   \n",
       "\n",
       "     Rating  Duration                                               Type  \\\n",
       "7784  TV-MA    99 min                       Dramas, International Movies   \n",
       "7785  TV-14   111 min     Dramas, International Movies, Music & Musicals   \n",
       "7786  TV-MA    44 min  Documentaries, International Movies, Music & M...   \n",
       "7787  TV-PG  1 Season                 International TV Shows, Reality TV   \n",
       "7788  TV-MA    90 min                    Documentaries, Music & Musicals   \n",
       "\n",
       "                                            Description  \n",
       "7784  When Lebanon's Civil War deprives Zozo of his ...  \n",
       "7785  A scrappy but poor boy worms his way into a ty...  \n",
       "7786  In this documentary, South African rapper Nast...  \n",
       "7787  Dessert wizard Adriano Zumbo looks for the nex...  \n",
       "7788  This documentary delves into the mystique behi...  "
      ]
     },
     "execution_count": 5,
     "metadata": {},
     "output_type": "execute_result"
    }
   ],
   "source": [
    "data.tail()       #to show bottom 5 records of the dataset"
   ]
  },
  {
   "cell_type": "markdown",
   "metadata": {},
   "source": [
    "3.shape"
   ]
  },
  {
   "cell_type": "code",
   "execution_count": 7,
   "metadata": {},
   "outputs": [
    {
     "data": {
      "text/plain": [
       "(7789, 11)"
      ]
     },
     "execution_count": 7,
     "metadata": {},
     "output_type": "execute_result"
    }
   ],
   "source": [
    "data.shape        #shape is use to show the number of rows and columns"
   ]
  },
  {
   "cell_type": "markdown",
   "metadata": {},
   "source": [
    "4.size"
   ]
  },
  {
   "cell_type": "code",
   "execution_count": 8,
   "metadata": {},
   "outputs": [
    {
     "data": {
      "text/plain": [
       "85679"
      ]
     },
     "execution_count": 8,
     "metadata": {},
     "output_type": "execute_result"
    }
   ],
   "source": [
    "data.size          #to show number of total values(elements) in the dataset"
   ]
  },
  {
   "cell_type": "markdown",
   "metadata": {},
   "source": [
    "5.columns"
   ]
  },
  {
   "cell_type": "code",
   "execution_count": 9,
   "metadata": {},
   "outputs": [
    {
     "data": {
      "text/plain": [
       "Index(['Show_Id', 'Category', 'Title', 'Director', 'Cast', 'Country',\n",
       "       'Release_Date', 'Rating', 'Duration', 'Type', 'Description'],\n",
       "      dtype='object')"
      ]
     },
     "execution_count": 9,
     "metadata": {},
     "output_type": "execute_result"
    }
   ],
   "source": [
    "data.columns        #to show all the column name"
   ]
  },
  {
   "cell_type": "markdown",
   "metadata": {},
   "source": [
    "6.dtypes\n"
   ]
  },
  {
   "cell_type": "code",
   "execution_count": 10,
   "metadata": {},
   "outputs": [
    {
     "data": {
      "text/plain": [
       "Show_Id         object\n",
       "Category        object\n",
       "Title           object\n",
       "Director        object\n",
       "Cast            object\n",
       "Country         object\n",
       "Release_Date    object\n",
       "Rating          object\n",
       "Duration        object\n",
       "Type            object\n",
       "Description     object\n",
       "dtype: object"
      ]
     },
     "execution_count": 10,
     "metadata": {},
     "output_type": "execute_result"
    }
   ],
   "source": [
    "data.dtypes         #to show the datatype of each column"
   ]
  },
  {
   "cell_type": "markdown",
   "metadata": {},
   "source": [
    "7.info()"
   ]
  },
  {
   "cell_type": "code",
   "execution_count": 11,
   "metadata": {},
   "outputs": [
    {
     "name": "stdout",
     "output_type": "stream",
     "text": [
      "<class 'pandas.core.frame.DataFrame'>\n",
      "RangeIndex: 7789 entries, 0 to 7788\n",
      "Data columns (total 11 columns):\n",
      " #   Column        Non-Null Count  Dtype \n",
      "---  ------        --------------  ----- \n",
      " 0   Show_Id       7789 non-null   object\n",
      " 1   Category      7789 non-null   object\n",
      " 2   Title         7789 non-null   object\n",
      " 3   Director      5401 non-null   object\n",
      " 4   Cast          7071 non-null   object\n",
      " 5   Country       7282 non-null   object\n",
      " 6   Release_Date  7779 non-null   object\n",
      " 7   Rating        7782 non-null   object\n",
      " 8   Duration      7789 non-null   object\n",
      " 9   Type          7789 non-null   object\n",
      " 10  Description   7789 non-null   object\n",
      "dtypes: object(11)\n",
      "memory usage: 669.5+ KB\n"
     ]
    }
   ],
   "source": [
    "data.info()            #to show indexes,columns,datatypes of each column and memory at once"
   ]
  },
  {
   "cell_type": "markdown",
   "metadata": {},
   "source": [
    "Task 1: Is there any duplicate record in this dataset? If yes,then remove it"
   ]
  },
  {
   "cell_type": "markdown",
   "metadata": {},
   "source": [
    "duplicate()"
   ]
  },
  {
   "cell_type": "code",
   "execution_count": 12,
   "metadata": {},
   "outputs": [
    {
     "data": {
      "text/html": [
       "<div>\n",
       "<style scoped>\n",
       "    .dataframe tbody tr th:only-of-type {\n",
       "        vertical-align: middle;\n",
       "    }\n",
       "\n",
       "    .dataframe tbody tr th {\n",
       "        vertical-align: top;\n",
       "    }\n",
       "\n",
       "    .dataframe thead th {\n",
       "        text-align: right;\n",
       "    }\n",
       "</style>\n",
       "<table border=\"1\" class=\"dataframe\">\n",
       "  <thead>\n",
       "    <tr style=\"text-align: right;\">\n",
       "      <th></th>\n",
       "      <th>Show_Id</th>\n",
       "      <th>Category</th>\n",
       "      <th>Title</th>\n",
       "      <th>Director</th>\n",
       "      <th>Cast</th>\n",
       "      <th>Country</th>\n",
       "      <th>Release_Date</th>\n",
       "      <th>Rating</th>\n",
       "      <th>Duration</th>\n",
       "      <th>Type</th>\n",
       "      <th>Description</th>\n",
       "    </tr>\n",
       "  </thead>\n",
       "  <tbody>\n",
       "    <tr>\n",
       "      <th>0</th>\n",
       "      <td>s1</td>\n",
       "      <td>TV Show</td>\n",
       "      <td>3%</td>\n",
       "      <td>NaN</td>\n",
       "      <td>João Miguel, Bianca Comparato, Michel Gomes, R...</td>\n",
       "      <td>Brazil</td>\n",
       "      <td>August 14, 2020</td>\n",
       "      <td>TV-MA</td>\n",
       "      <td>4 Seasons</td>\n",
       "      <td>International TV Shows, TV Dramas, TV Sci-Fi &amp;...</td>\n",
       "      <td>In a future where the elite inhabit an island ...</td>\n",
       "    </tr>\n",
       "    <tr>\n",
       "      <th>1</th>\n",
       "      <td>s2</td>\n",
       "      <td>Movie</td>\n",
       "      <td>07:19</td>\n",
       "      <td>Jorge Michel Grau</td>\n",
       "      <td>Demián Bichir, Héctor Bonilla, Oscar Serrano, ...</td>\n",
       "      <td>Mexico</td>\n",
       "      <td>December 23, 2016</td>\n",
       "      <td>TV-MA</td>\n",
       "      <td>93 min</td>\n",
       "      <td>Dramas, International Movies</td>\n",
       "      <td>After a devastating earthquake hits Mexico Cit...</td>\n",
       "    </tr>\n",
       "    <tr>\n",
       "      <th>2</th>\n",
       "      <td>s3</td>\n",
       "      <td>Movie</td>\n",
       "      <td>23:59</td>\n",
       "      <td>Gilbert Chan</td>\n",
       "      <td>Tedd Chan, Stella Chung, Henley Hii, Lawrence ...</td>\n",
       "      <td>Singapore</td>\n",
       "      <td>December 20, 2018</td>\n",
       "      <td>R</td>\n",
       "      <td>78 min</td>\n",
       "      <td>Horror Movies, International Movies</td>\n",
       "      <td>When an army recruit is found dead, his fellow...</td>\n",
       "    </tr>\n",
       "    <tr>\n",
       "      <th>3</th>\n",
       "      <td>s4</td>\n",
       "      <td>Movie</td>\n",
       "      <td>9</td>\n",
       "      <td>Shane Acker</td>\n",
       "      <td>Elijah Wood, John C. Reilly, Jennifer Connelly...</td>\n",
       "      <td>United States</td>\n",
       "      <td>November 16, 2017</td>\n",
       "      <td>PG-13</td>\n",
       "      <td>80 min</td>\n",
       "      <td>Action &amp; Adventure, Independent Movies, Sci-Fi...</td>\n",
       "      <td>In a postapocalyptic world, rag-doll robots hi...</td>\n",
       "    </tr>\n",
       "    <tr>\n",
       "      <th>4</th>\n",
       "      <td>s5</td>\n",
       "      <td>Movie</td>\n",
       "      <td>21</td>\n",
       "      <td>Robert Luketic</td>\n",
       "      <td>Jim Sturgess, Kevin Spacey, Kate Bosworth, Aar...</td>\n",
       "      <td>United States</td>\n",
       "      <td>January 1, 2020</td>\n",
       "      <td>PG-13</td>\n",
       "      <td>123 min</td>\n",
       "      <td>Dramas</td>\n",
       "      <td>A brilliant group of students become card-coun...</td>\n",
       "    </tr>\n",
       "  </tbody>\n",
       "</table>\n",
       "</div>"
      ],
      "text/plain": [
       "  Show_Id Category  Title           Director  \\\n",
       "0      s1  TV Show     3%                NaN   \n",
       "1      s2    Movie  07:19  Jorge Michel Grau   \n",
       "2      s3    Movie  23:59       Gilbert Chan   \n",
       "3      s4    Movie      9        Shane Acker   \n",
       "4      s5    Movie     21     Robert Luketic   \n",
       "\n",
       "                                                Cast        Country  \\\n",
       "0  João Miguel, Bianca Comparato, Michel Gomes, R...         Brazil   \n",
       "1  Demián Bichir, Héctor Bonilla, Oscar Serrano, ...         Mexico   \n",
       "2  Tedd Chan, Stella Chung, Henley Hii, Lawrence ...      Singapore   \n",
       "3  Elijah Wood, John C. Reilly, Jennifer Connelly...  United States   \n",
       "4  Jim Sturgess, Kevin Spacey, Kate Bosworth, Aar...  United States   \n",
       "\n",
       "        Release_Date Rating   Duration  \\\n",
       "0    August 14, 2020  TV-MA  4 Seasons   \n",
       "1  December 23, 2016  TV-MA     93 min   \n",
       "2  December 20, 2018      R     78 min   \n",
       "3  November 16, 2017  PG-13     80 min   \n",
       "4    January 1, 2020  PG-13    123 min   \n",
       "\n",
       "                                                Type  \\\n",
       "0  International TV Shows, TV Dramas, TV Sci-Fi &...   \n",
       "1                       Dramas, International Movies   \n",
       "2                Horror Movies, International Movies   \n",
       "3  Action & Adventure, Independent Movies, Sci-Fi...   \n",
       "4                                             Dramas   \n",
       "\n",
       "                                         Description  \n",
       "0  In a future where the elite inhabit an island ...  \n",
       "1  After a devastating earthquake hits Mexico Cit...  \n",
       "2  When an army recruit is found dead, his fellow...  \n",
       "3  In a postapocalyptic world, rag-doll robots hi...  \n",
       "4  A brilliant group of students become card-coun...  "
      ]
     },
     "execution_count": 12,
     "metadata": {},
     "output_type": "execute_result"
    }
   ],
   "source": [
    "data.head()"
   ]
  },
  {
   "cell_type": "code",
   "execution_count": 13,
   "metadata": {},
   "outputs": [
    {
     "data": {
      "text/plain": [
       "(7789, 11)"
      ]
     },
     "execution_count": 13,
     "metadata": {},
     "output_type": "execute_result"
    }
   ],
   "source": [
    "data.shape"
   ]
  },
  {
   "cell_type": "code",
   "execution_count": 14,
   "metadata": {},
   "outputs": [
    {
     "data": {
      "text/plain": [
       "0       False\n",
       "1       False\n",
       "2       False\n",
       "3       False\n",
       "4       False\n",
       "        ...  \n",
       "7784    False\n",
       "7785    False\n",
       "7786    False\n",
       "7787    False\n",
       "7788    False\n",
       "Length: 7789, dtype: bool"
      ]
     },
     "execution_count": 14,
     "metadata": {},
     "output_type": "execute_result"
    }
   ],
   "source": [
    "data.duplicated()      #it will show result in boolean form"
   ]
  },
  {
   "cell_type": "code",
   "execution_count": 16,
   "metadata": {},
   "outputs": [
    {
     "data": {
      "text/html": [
       "<div>\n",
       "<style scoped>\n",
       "    .dataframe tbody tr th:only-of-type {\n",
       "        vertical-align: middle;\n",
       "    }\n",
       "\n",
       "    .dataframe tbody tr th {\n",
       "        vertical-align: top;\n",
       "    }\n",
       "\n",
       "    .dataframe thead th {\n",
       "        text-align: right;\n",
       "    }\n",
       "</style>\n",
       "<table border=\"1\" class=\"dataframe\">\n",
       "  <thead>\n",
       "    <tr style=\"text-align: right;\">\n",
       "      <th></th>\n",
       "      <th>Show_Id</th>\n",
       "      <th>Category</th>\n",
       "      <th>Title</th>\n",
       "      <th>Director</th>\n",
       "      <th>Cast</th>\n",
       "      <th>Country</th>\n",
       "      <th>Release_Date</th>\n",
       "      <th>Rating</th>\n",
       "      <th>Duration</th>\n",
       "      <th>Type</th>\n",
       "      <th>Description</th>\n",
       "    </tr>\n",
       "  </thead>\n",
       "  <tbody>\n",
       "    <tr>\n",
       "      <th>6300</th>\n",
       "      <td>s684</td>\n",
       "      <td>Movie</td>\n",
       "      <td>Backfire</td>\n",
       "      <td>Dave Patten</td>\n",
       "      <td>Black Deniro, Byron \"Squally\" Vinson, Dominic ...</td>\n",
       "      <td>United States</td>\n",
       "      <td>April 5, 2019</td>\n",
       "      <td>TV-MA</td>\n",
       "      <td>97 min</td>\n",
       "      <td>Dramas, Independent Movies, Thrillers</td>\n",
       "      <td>When two would-be robbers accidentally kill a ...</td>\n",
       "    </tr>\n",
       "    <tr>\n",
       "      <th>6622</th>\n",
       "      <td>s6621</td>\n",
       "      <td>Movie</td>\n",
       "      <td>The Lost Okoroshi</td>\n",
       "      <td>Abba T. Makama</td>\n",
       "      <td>Seun Ajayi, Judith Audu, Tope Tedela, Ifu Enna...</td>\n",
       "      <td>Nigeria</td>\n",
       "      <td>September 4, 2020</td>\n",
       "      <td>TV-MA</td>\n",
       "      <td>94 min</td>\n",
       "      <td>Comedies, Dramas, Independent Movies</td>\n",
       "      <td>A disillusioned security guard transforms into...</td>\n",
       "    </tr>\n",
       "  </tbody>\n",
       "</table>\n",
       "</div>"
      ],
      "text/plain": [
       "     Show_Id Category              Title        Director  \\\n",
       "6300    s684    Movie           Backfire     Dave Patten   \n",
       "6622   s6621    Movie  The Lost Okoroshi  Abba T. Makama   \n",
       "\n",
       "                                                   Cast        Country  \\\n",
       "6300  Black Deniro, Byron \"Squally\" Vinson, Dominic ...  United States   \n",
       "6622  Seun Ajayi, Judith Audu, Tope Tedela, Ifu Enna...        Nigeria   \n",
       "\n",
       "           Release_Date Rating Duration  \\\n",
       "6300      April 5, 2019  TV-MA   97 min   \n",
       "6622  September 4, 2020  TV-MA   94 min   \n",
       "\n",
       "                                       Type  \\\n",
       "6300  Dramas, Independent Movies, Thrillers   \n",
       "6622   Comedies, Dramas, Independent Movies   \n",
       "\n",
       "                                            Description  \n",
       "6300  When two would-be robbers accidentally kill a ...  \n",
       "6622  A disillusioned security guard transforms into...  "
      ]
     },
     "execution_count": 16,
     "metadata": {},
     "output_type": "execute_result"
    }
   ],
   "source": [
    "data[data.duplicated()]"
   ]
  },
  {
   "cell_type": "code",
   "execution_count": 18,
   "metadata": {},
   "outputs": [],
   "source": [
    "#to remove the duplicate rows permanently\n",
    "data.drop_duplicates(inplace=True)"
   ]
  },
  {
   "cell_type": "code",
   "execution_count": 19,
   "metadata": {},
   "outputs": [
    {
     "data": {
      "text/html": [
       "<div>\n",
       "<style scoped>\n",
       "    .dataframe tbody tr th:only-of-type {\n",
       "        vertical-align: middle;\n",
       "    }\n",
       "\n",
       "    .dataframe tbody tr th {\n",
       "        vertical-align: top;\n",
       "    }\n",
       "\n",
       "    .dataframe thead th {\n",
       "        text-align: right;\n",
       "    }\n",
       "</style>\n",
       "<table border=\"1\" class=\"dataframe\">\n",
       "  <thead>\n",
       "    <tr style=\"text-align: right;\">\n",
       "      <th></th>\n",
       "      <th>Show_Id</th>\n",
       "      <th>Category</th>\n",
       "      <th>Title</th>\n",
       "      <th>Director</th>\n",
       "      <th>Cast</th>\n",
       "      <th>Country</th>\n",
       "      <th>Release_Date</th>\n",
       "      <th>Rating</th>\n",
       "      <th>Duration</th>\n",
       "      <th>Type</th>\n",
       "      <th>Description</th>\n",
       "    </tr>\n",
       "  </thead>\n",
       "  <tbody>\n",
       "  </tbody>\n",
       "</table>\n",
       "</div>"
      ],
      "text/plain": [
       "Empty DataFrame\n",
       "Columns: [Show_Id, Category, Title, Director, Cast, Country, Release_Date, Rating, Duration, Type, Description]\n",
       "Index: []"
      ]
     },
     "execution_count": 19,
     "metadata": {},
     "output_type": "execute_result"
    }
   ],
   "source": [
    "#to check whether the duplicate values are removed\n",
    "data[data.duplicated()]"
   ]
  },
  {
   "cell_type": "markdown",
   "metadata": {},
   "source": [
    "Task 2: Is there any null value present in any column? Show with heat map"
   ]
  },
  {
   "cell_type": "markdown",
   "metadata": {},
   "source": [
    "isnull()"
   ]
  },
  {
   "cell_type": "code",
   "execution_count": 20,
   "metadata": {},
   "outputs": [
    {
     "data": {
      "text/html": [
       "<div>\n",
       "<style scoped>\n",
       "    .dataframe tbody tr th:only-of-type {\n",
       "        vertical-align: middle;\n",
       "    }\n",
       "\n",
       "    .dataframe tbody tr th {\n",
       "        vertical-align: top;\n",
       "    }\n",
       "\n",
       "    .dataframe thead th {\n",
       "        text-align: right;\n",
       "    }\n",
       "</style>\n",
       "<table border=\"1\" class=\"dataframe\">\n",
       "  <thead>\n",
       "    <tr style=\"text-align: right;\">\n",
       "      <th></th>\n",
       "      <th>Show_Id</th>\n",
       "      <th>Category</th>\n",
       "      <th>Title</th>\n",
       "      <th>Director</th>\n",
       "      <th>Cast</th>\n",
       "      <th>Country</th>\n",
       "      <th>Release_Date</th>\n",
       "      <th>Rating</th>\n",
       "      <th>Duration</th>\n",
       "      <th>Type</th>\n",
       "      <th>Description</th>\n",
       "    </tr>\n",
       "  </thead>\n",
       "  <tbody>\n",
       "    <tr>\n",
       "      <th>0</th>\n",
       "      <td>s1</td>\n",
       "      <td>TV Show</td>\n",
       "      <td>3%</td>\n",
       "      <td>NaN</td>\n",
       "      <td>João Miguel, Bianca Comparato, Michel Gomes, R...</td>\n",
       "      <td>Brazil</td>\n",
       "      <td>August 14, 2020</td>\n",
       "      <td>TV-MA</td>\n",
       "      <td>4 Seasons</td>\n",
       "      <td>International TV Shows, TV Dramas, TV Sci-Fi &amp;...</td>\n",
       "      <td>In a future where the elite inhabit an island ...</td>\n",
       "    </tr>\n",
       "    <tr>\n",
       "      <th>1</th>\n",
       "      <td>s2</td>\n",
       "      <td>Movie</td>\n",
       "      <td>07:19</td>\n",
       "      <td>Jorge Michel Grau</td>\n",
       "      <td>Demián Bichir, Héctor Bonilla, Oscar Serrano, ...</td>\n",
       "      <td>Mexico</td>\n",
       "      <td>December 23, 2016</td>\n",
       "      <td>TV-MA</td>\n",
       "      <td>93 min</td>\n",
       "      <td>Dramas, International Movies</td>\n",
       "      <td>After a devastating earthquake hits Mexico Cit...</td>\n",
       "    </tr>\n",
       "    <tr>\n",
       "      <th>2</th>\n",
       "      <td>s3</td>\n",
       "      <td>Movie</td>\n",
       "      <td>23:59</td>\n",
       "      <td>Gilbert Chan</td>\n",
       "      <td>Tedd Chan, Stella Chung, Henley Hii, Lawrence ...</td>\n",
       "      <td>Singapore</td>\n",
       "      <td>December 20, 2018</td>\n",
       "      <td>R</td>\n",
       "      <td>78 min</td>\n",
       "      <td>Horror Movies, International Movies</td>\n",
       "      <td>When an army recruit is found dead, his fellow...</td>\n",
       "    </tr>\n",
       "    <tr>\n",
       "      <th>3</th>\n",
       "      <td>s4</td>\n",
       "      <td>Movie</td>\n",
       "      <td>9</td>\n",
       "      <td>Shane Acker</td>\n",
       "      <td>Elijah Wood, John C. Reilly, Jennifer Connelly...</td>\n",
       "      <td>United States</td>\n",
       "      <td>November 16, 2017</td>\n",
       "      <td>PG-13</td>\n",
       "      <td>80 min</td>\n",
       "      <td>Action &amp; Adventure, Independent Movies, Sci-Fi...</td>\n",
       "      <td>In a postapocalyptic world, rag-doll robots hi...</td>\n",
       "    </tr>\n",
       "    <tr>\n",
       "      <th>4</th>\n",
       "      <td>s5</td>\n",
       "      <td>Movie</td>\n",
       "      <td>21</td>\n",
       "      <td>Robert Luketic</td>\n",
       "      <td>Jim Sturgess, Kevin Spacey, Kate Bosworth, Aar...</td>\n",
       "      <td>United States</td>\n",
       "      <td>January 1, 2020</td>\n",
       "      <td>PG-13</td>\n",
       "      <td>123 min</td>\n",
       "      <td>Dramas</td>\n",
       "      <td>A brilliant group of students become card-coun...</td>\n",
       "    </tr>\n",
       "  </tbody>\n",
       "</table>\n",
       "</div>"
      ],
      "text/plain": [
       "  Show_Id Category  Title           Director  \\\n",
       "0      s1  TV Show     3%                NaN   \n",
       "1      s2    Movie  07:19  Jorge Michel Grau   \n",
       "2      s3    Movie  23:59       Gilbert Chan   \n",
       "3      s4    Movie      9        Shane Acker   \n",
       "4      s5    Movie     21     Robert Luketic   \n",
       "\n",
       "                                                Cast        Country  \\\n",
       "0  João Miguel, Bianca Comparato, Michel Gomes, R...         Brazil   \n",
       "1  Demián Bichir, Héctor Bonilla, Oscar Serrano, ...         Mexico   \n",
       "2  Tedd Chan, Stella Chung, Henley Hii, Lawrence ...      Singapore   \n",
       "3  Elijah Wood, John C. Reilly, Jennifer Connelly...  United States   \n",
       "4  Jim Sturgess, Kevin Spacey, Kate Bosworth, Aar...  United States   \n",
       "\n",
       "        Release_Date Rating   Duration  \\\n",
       "0    August 14, 2020  TV-MA  4 Seasons   \n",
       "1  December 23, 2016  TV-MA     93 min   \n",
       "2  December 20, 2018      R     78 min   \n",
       "3  November 16, 2017  PG-13     80 min   \n",
       "4    January 1, 2020  PG-13    123 min   \n",
       "\n",
       "                                                Type  \\\n",
       "0  International TV Shows, TV Dramas, TV Sci-Fi &...   \n",
       "1                       Dramas, International Movies   \n",
       "2                Horror Movies, International Movies   \n",
       "3  Action & Adventure, Independent Movies, Sci-Fi...   \n",
       "4                                             Dramas   \n",
       "\n",
       "                                         Description  \n",
       "0  In a future where the elite inhabit an island ...  \n",
       "1  After a devastating earthquake hits Mexico Cit...  \n",
       "2  When an army recruit is found dead, his fellow...  \n",
       "3  In a postapocalyptic world, rag-doll robots hi...  \n",
       "4  A brilliant group of students become card-coun...  "
      ]
     },
     "execution_count": 20,
     "metadata": {},
     "output_type": "execute_result"
    }
   ],
   "source": [
    "data.head()"
   ]
  },
  {
   "cell_type": "code",
   "execution_count": 21,
   "metadata": {},
   "outputs": [
    {
     "data": {
      "text/html": [
       "<div>\n",
       "<style scoped>\n",
       "    .dataframe tbody tr th:only-of-type {\n",
       "        vertical-align: middle;\n",
       "    }\n",
       "\n",
       "    .dataframe tbody tr th {\n",
       "        vertical-align: top;\n",
       "    }\n",
       "\n",
       "    .dataframe thead th {\n",
       "        text-align: right;\n",
       "    }\n",
       "</style>\n",
       "<table border=\"1\" class=\"dataframe\">\n",
       "  <thead>\n",
       "    <tr style=\"text-align: right;\">\n",
       "      <th></th>\n",
       "      <th>Show_Id</th>\n",
       "      <th>Category</th>\n",
       "      <th>Title</th>\n",
       "      <th>Director</th>\n",
       "      <th>Cast</th>\n",
       "      <th>Country</th>\n",
       "      <th>Release_Date</th>\n",
       "      <th>Rating</th>\n",
       "      <th>Duration</th>\n",
       "      <th>Type</th>\n",
       "      <th>Description</th>\n",
       "    </tr>\n",
       "  </thead>\n",
       "  <tbody>\n",
       "    <tr>\n",
       "      <th>0</th>\n",
       "      <td>False</td>\n",
       "      <td>False</td>\n",
       "      <td>False</td>\n",
       "      <td>True</td>\n",
       "      <td>False</td>\n",
       "      <td>False</td>\n",
       "      <td>False</td>\n",
       "      <td>False</td>\n",
       "      <td>False</td>\n",
       "      <td>False</td>\n",
       "      <td>False</td>\n",
       "    </tr>\n",
       "    <tr>\n",
       "      <th>1</th>\n",
       "      <td>False</td>\n",
       "      <td>False</td>\n",
       "      <td>False</td>\n",
       "      <td>False</td>\n",
       "      <td>False</td>\n",
       "      <td>False</td>\n",
       "      <td>False</td>\n",
       "      <td>False</td>\n",
       "      <td>False</td>\n",
       "      <td>False</td>\n",
       "      <td>False</td>\n",
       "    </tr>\n",
       "    <tr>\n",
       "      <th>2</th>\n",
       "      <td>False</td>\n",
       "      <td>False</td>\n",
       "      <td>False</td>\n",
       "      <td>False</td>\n",
       "      <td>False</td>\n",
       "      <td>False</td>\n",
       "      <td>False</td>\n",
       "      <td>False</td>\n",
       "      <td>False</td>\n",
       "      <td>False</td>\n",
       "      <td>False</td>\n",
       "    </tr>\n",
       "    <tr>\n",
       "      <th>3</th>\n",
       "      <td>False</td>\n",
       "      <td>False</td>\n",
       "      <td>False</td>\n",
       "      <td>False</td>\n",
       "      <td>False</td>\n",
       "      <td>False</td>\n",
       "      <td>False</td>\n",
       "      <td>False</td>\n",
       "      <td>False</td>\n",
       "      <td>False</td>\n",
       "      <td>False</td>\n",
       "    </tr>\n",
       "    <tr>\n",
       "      <th>4</th>\n",
       "      <td>False</td>\n",
       "      <td>False</td>\n",
       "      <td>False</td>\n",
       "      <td>False</td>\n",
       "      <td>False</td>\n",
       "      <td>False</td>\n",
       "      <td>False</td>\n",
       "      <td>False</td>\n",
       "      <td>False</td>\n",
       "      <td>False</td>\n",
       "      <td>False</td>\n",
       "    </tr>\n",
       "    <tr>\n",
       "      <th>...</th>\n",
       "      <td>...</td>\n",
       "      <td>...</td>\n",
       "      <td>...</td>\n",
       "      <td>...</td>\n",
       "      <td>...</td>\n",
       "      <td>...</td>\n",
       "      <td>...</td>\n",
       "      <td>...</td>\n",
       "      <td>...</td>\n",
       "      <td>...</td>\n",
       "      <td>...</td>\n",
       "    </tr>\n",
       "    <tr>\n",
       "      <th>7784</th>\n",
       "      <td>False</td>\n",
       "      <td>False</td>\n",
       "      <td>False</td>\n",
       "      <td>False</td>\n",
       "      <td>False</td>\n",
       "      <td>False</td>\n",
       "      <td>False</td>\n",
       "      <td>False</td>\n",
       "      <td>False</td>\n",
       "      <td>False</td>\n",
       "      <td>False</td>\n",
       "    </tr>\n",
       "    <tr>\n",
       "      <th>7785</th>\n",
       "      <td>False</td>\n",
       "      <td>False</td>\n",
       "      <td>False</td>\n",
       "      <td>False</td>\n",
       "      <td>False</td>\n",
       "      <td>False</td>\n",
       "      <td>False</td>\n",
       "      <td>False</td>\n",
       "      <td>False</td>\n",
       "      <td>False</td>\n",
       "      <td>False</td>\n",
       "    </tr>\n",
       "    <tr>\n",
       "      <th>7786</th>\n",
       "      <td>False</td>\n",
       "      <td>False</td>\n",
       "      <td>False</td>\n",
       "      <td>True</td>\n",
       "      <td>False</td>\n",
       "      <td>True</td>\n",
       "      <td>False</td>\n",
       "      <td>False</td>\n",
       "      <td>False</td>\n",
       "      <td>False</td>\n",
       "      <td>False</td>\n",
       "    </tr>\n",
       "    <tr>\n",
       "      <th>7787</th>\n",
       "      <td>False</td>\n",
       "      <td>False</td>\n",
       "      <td>False</td>\n",
       "      <td>True</td>\n",
       "      <td>False</td>\n",
       "      <td>False</td>\n",
       "      <td>False</td>\n",
       "      <td>False</td>\n",
       "      <td>False</td>\n",
       "      <td>False</td>\n",
       "      <td>False</td>\n",
       "    </tr>\n",
       "    <tr>\n",
       "      <th>7788</th>\n",
       "      <td>False</td>\n",
       "      <td>False</td>\n",
       "      <td>False</td>\n",
       "      <td>False</td>\n",
       "      <td>True</td>\n",
       "      <td>False</td>\n",
       "      <td>False</td>\n",
       "      <td>False</td>\n",
       "      <td>False</td>\n",
       "      <td>False</td>\n",
       "      <td>False</td>\n",
       "    </tr>\n",
       "  </tbody>\n",
       "</table>\n",
       "<p>7787 rows × 11 columns</p>\n",
       "</div>"
      ],
      "text/plain": [
       "      Show_Id  Category  Title  Director   Cast  Country  Release_Date  \\\n",
       "0       False     False  False      True  False    False         False   \n",
       "1       False     False  False     False  False    False         False   \n",
       "2       False     False  False     False  False    False         False   \n",
       "3       False     False  False     False  False    False         False   \n",
       "4       False     False  False     False  False    False         False   \n",
       "...       ...       ...    ...       ...    ...      ...           ...   \n",
       "7784    False     False  False     False  False    False         False   \n",
       "7785    False     False  False     False  False    False         False   \n",
       "7786    False     False  False      True  False     True         False   \n",
       "7787    False     False  False      True  False    False         False   \n",
       "7788    False     False  False     False   True    False         False   \n",
       "\n",
       "      Rating  Duration   Type  Description  \n",
       "0      False     False  False        False  \n",
       "1      False     False  False        False  \n",
       "2      False     False  False        False  \n",
       "3      False     False  False        False  \n",
       "4      False     False  False        False  \n",
       "...      ...       ...    ...          ...  \n",
       "7784   False     False  False        False  \n",
       "7785   False     False  False        False  \n",
       "7786   False     False  False        False  \n",
       "7787   False     False  False        False  \n",
       "7788   False     False  False        False  \n",
       "\n",
       "[7787 rows x 11 columns]"
      ]
     },
     "execution_count": 21,
     "metadata": {},
     "output_type": "execute_result"
    }
   ],
   "source": [
    "data.isnull()        #to show where null value is present(but it will show in boolean way)"
   ]
  },
  {
   "cell_type": "code",
   "execution_count": 23,
   "metadata": {},
   "outputs": [
    {
     "data": {
      "text/plain": [
       "Show_Id            0\n",
       "Category           0\n",
       "Title              0\n",
       "Director        2388\n",
       "Cast             718\n",
       "Country          507\n",
       "Release_Date      10\n",
       "Rating             7\n",
       "Duration           0\n",
       "Type               0\n",
       "Description        0\n",
       "dtype: int64"
      ]
     },
     "execution_count": 23,
     "metadata": {},
     "output_type": "execute_result"
    }
   ],
   "source": [
    "data.isnull().sum()       #to show the count of null values in each column"
   ]
  },
  {
   "cell_type": "markdown",
   "metadata": {},
   "source": [
    "seaborn library (heat-map)"
   ]
  },
  {
   "cell_type": "code",
   "execution_count": 24,
   "metadata": {},
   "outputs": [],
   "source": [
    "import seaborn as sns"
   ]
  },
  {
   "cell_type": "code",
   "execution_count": 25,
   "metadata": {},
   "outputs": [
    {
     "data": {
      "text/plain": [
       "<AxesSubplot: >"
      ]
     },
     "execution_count": 25,
     "metadata": {},
     "output_type": "execute_result"
    },
    {
     "data": {
      "image/png": "[encoded data removed]",
      "text/plain": [
       "<Figure size 640x480 with 2 Axes>"
      ]
     },
     "metadata": {},
     "output_type": "display_data"
    }
   ],
   "source": [
    "sns.heatmap(data.isnull())      #using heatmap to show null values count"
   ]
  },
  {
   "cell_type": "markdown",
   "metadata": {},
   "source": [
    "Task 3:In which year highest number of the TV shows and movies were released? Show with bar graph"
   ]
  },
  {
   "cell_type": "markdown",
   "metadata": {},
   "source": [
    "dtypes\n"
   ]
  },
  {
   "cell_type": "code",
   "execution_count": 26,
   "metadata": {},
   "outputs": [
    {
     "data": {
      "text/plain": [
       "Show_Id         object\n",
       "Category        object\n",
       "Title           object\n",
       "Director        object\n",
       "Cast            object\n",
       "Country         object\n",
       "Release_Date    object\n",
       "Rating          object\n",
       "Duration        object\n",
       "Type            object\n",
       "Description     object\n",
       "dtype: object"
      ]
     },
     "execution_count": 26,
     "metadata": {},
     "output_type": "execute_result"
    }
   ],
   "source": [
    "data.dtypes"
   ]
  },
  {
   "cell_type": "markdown",
   "metadata": {},
   "source": [
    "to_datetime"
   ]
  },
  {
   "cell_type": "code",
   "execution_count": 27,
   "metadata": {},
   "outputs": [],
   "source": [
    "data['Date_N']=pd.to_datetime(data['Release_Date'])"
   ]
  },
  {
   "cell_type": "code",
   "execution_count": 28,
   "metadata": {},
   "outputs": [
    {
     "data": {
      "text/html": [
       "<div>\n",
       "<style scoped>\n",
       "    .dataframe tbody tr th:only-of-type {\n",
       "        vertical-align: middle;\n",
       "    }\n",
       "\n",
       "    .dataframe tbody tr th {\n",
       "        vertical-align: top;\n",
       "    }\n",
       "\n",
       "    .dataframe thead th {\n",
       "        text-align: right;\n",
       "    }\n",
       "</style>\n",
       "<table border=\"1\" class=\"dataframe\">\n",
       "  <thead>\n",
       "    <tr style=\"text-align: right;\">\n",
       "      <th></th>\n",
       "      <th>Show_Id</th>\n",
       "      <th>Category</th>\n",
       "      <th>Title</th>\n",
       "      <th>Director</th>\n",
       "      <th>Cast</th>\n",
       "      <th>Country</th>\n",
       "      <th>Release_Date</th>\n",
       "      <th>Rating</th>\n",
       "      <th>Duration</th>\n",
       "      <th>Type</th>\n",
       "      <th>Description</th>\n",
       "      <th>Date_N</th>\n",
       "    </tr>\n",
       "  </thead>\n",
       "  <tbody>\n",
       "    <tr>\n",
       "      <th>0</th>\n",
       "      <td>s1</td>\n",
       "      <td>TV Show</td>\n",
       "      <td>3%</td>\n",
       "      <td>NaN</td>\n",
       "      <td>João Miguel, Bianca Comparato, Michel Gomes, R...</td>\n",
       "      <td>Brazil</td>\n",
       "      <td>August 14, 2020</td>\n",
       "      <td>TV-MA</td>\n",
       "      <td>4 Seasons</td>\n",
       "      <td>International TV Shows, TV Dramas, TV Sci-Fi &amp;...</td>\n",
       "      <td>In a future where the elite inhabit an island ...</td>\n",
       "      <td>2020-08-14</td>\n",
       "    </tr>\n",
       "    <tr>\n",
       "      <th>1</th>\n",
       "      <td>s2</td>\n",
       "      <td>Movie</td>\n",
       "      <td>07:19</td>\n",
       "      <td>Jorge Michel Grau</td>\n",
       "      <td>Demián Bichir, Héctor Bonilla, Oscar Serrano, ...</td>\n",
       "      <td>Mexico</td>\n",
       "      <td>December 23, 2016</td>\n",
       "      <td>TV-MA</td>\n",
       "      <td>93 min</td>\n",
       "      <td>Dramas, International Movies</td>\n",
       "      <td>After a devastating earthquake hits Mexico Cit...</td>\n",
       "      <td>2016-12-23</td>\n",
       "    </tr>\n",
       "    <tr>\n",
       "      <th>2</th>\n",
       "      <td>s3</td>\n",
       "      <td>Movie</td>\n",
       "      <td>23:59</td>\n",
       "      <td>Gilbert Chan</td>\n",
       "      <td>Tedd Chan, Stella Chung, Henley Hii, Lawrence ...</td>\n",
       "      <td>Singapore</td>\n",
       "      <td>December 20, 2018</td>\n",
       "      <td>R</td>\n",
       "      <td>78 min</td>\n",
       "      <td>Horror Movies, International Movies</td>\n",
       "      <td>When an army recruit is found dead, his fellow...</td>\n",
       "      <td>2018-12-20</td>\n",
       "    </tr>\n",
       "    <tr>\n",
       "      <th>3</th>\n",
       "      <td>s4</td>\n",
       "      <td>Movie</td>\n",
       "      <td>9</td>\n",
       "      <td>Shane Acker</td>\n",
       "      <td>Elijah Wood, John C. Reilly, Jennifer Connelly...</td>\n",
       "      <td>United States</td>\n",
       "      <td>November 16, 2017</td>\n",
       "      <td>PG-13</td>\n",
       "      <td>80 min</td>\n",
       "      <td>Action &amp; Adventure, Independent Movies, Sci-Fi...</td>\n",
       "      <td>In a postapocalyptic world, rag-doll robots hi...</td>\n",
       "      <td>2017-11-16</td>\n",
       "    </tr>\n",
       "    <tr>\n",
       "      <th>4</th>\n",
       "      <td>s5</td>\n",
       "      <td>Movie</td>\n",
       "      <td>21</td>\n",
       "      <td>Robert Luketic</td>\n",
       "      <td>Jim Sturgess, Kevin Spacey, Kate Bosworth, Aar...</td>\n",
       "      <td>United States</td>\n",
       "      <td>January 1, 2020</td>\n",
       "      <td>PG-13</td>\n",
       "      <td>123 min</td>\n",
       "      <td>Dramas</td>\n",
       "      <td>A brilliant group of students become card-coun...</td>\n",
       "      <td>2020-01-01</td>\n",
       "    </tr>\n",
       "  </tbody>\n",
       "</table>\n",
       "</div>"
      ],
      "text/plain": [
       "  Show_Id Category  Title           Director  \\\n",
       "0      s1  TV Show     3%                NaN   \n",
       "1      s2    Movie  07:19  Jorge Michel Grau   \n",
       "2      s3    Movie  23:59       Gilbert Chan   \n",
       "3      s4    Movie      9        Shane Acker   \n",
       "4      s5    Movie     21     Robert Luketic   \n",
       "\n",
       "                                                Cast        Country  \\\n",
       "0  João Miguel, Bianca Comparato, Michel Gomes, R...         Brazil   \n",
       "1  Demián Bichir, Héctor Bonilla, Oscar Serrano, ...         Mexico   \n",
       "2  Tedd Chan, Stella Chung, Henley Hii, Lawrence ...      Singapore   \n",
       "3  Elijah Wood, John C. Reilly, Jennifer Connelly...  United States   \n",
       "4  Jim Sturgess, Kevin Spacey, Kate Bosworth, Aar...  United States   \n",
       "\n",
       "        Release_Date Rating   Duration  \\\n",
       "0    August 14, 2020  TV-MA  4 Seasons   \n",
       "1  December 23, 2016  TV-MA     93 min   \n",
       "2  December 20, 2018      R     78 min   \n",
       "3  November 16, 2017  PG-13     80 min   \n",
       "4    January 1, 2020  PG-13    123 min   \n",
       "\n",
       "                                                Type  \\\n",
       "0  International TV Shows, TV Dramas, TV Sci-Fi &...   \n",
       "1                       Dramas, International Movies   \n",
       "2                Horror Movies, International Movies   \n",
       "3  Action & Adventure, Independent Movies, Sci-Fi...   \n",
       "4                                             Dramas   \n",
       "\n",
       "                                         Description     Date_N  \n",
       "0  In a future where the elite inhabit an island ... 2020-08-14  \n",
       "1  After a devastating earthquake hits Mexico Cit... 2016-12-23  \n",
       "2  When an army recruit is found dead, his fellow... 2018-12-20  \n",
       "3  In a postapocalyptic world, rag-doll robots hi... 2017-11-16  \n",
       "4  A brilliant group of students become card-coun... 2020-01-01  "
      ]
     },
     "execution_count": 28,
     "metadata": {},
     "output_type": "execute_result"
    }
   ],
   "source": [
    "data.head()"
   ]
  },
  {
   "cell_type": "code",
   "execution_count": 29,
   "metadata": {},
   "outputs": [
    {
     "data": {
      "text/plain": [
       "Show_Id                 object\n",
       "Category                object\n",
       "Title                   object\n",
       "Director                object\n",
       "Cast                    object\n",
       "Country                 object\n",
       "Release_Date            object\n",
       "Rating                  object\n",
       "Duration                object\n",
       "Type                    object\n",
       "Description             object\n",
       "Date_N          datetime64[ns]\n",
       "dtype: object"
      ]
     },
     "execution_count": 29,
     "metadata": {},
     "output_type": "execute_result"
    }
   ],
   "source": [
    "data.dtypes"
   ]
  },
  {
   "cell_type": "markdown",
   "metadata": {},
   "source": [
    "dt.year.value_counts()\n"
   ]
  },
  {
   "cell_type": "code",
   "execution_count": 31,
   "metadata": {},
   "outputs": [
    {
     "data": {
      "text/plain": [
       "2019.0    2153\n",
       "2020.0    2009\n",
       "2018.0    1685\n",
       "2017.0    1225\n",
       "2016.0     443\n",
       "2021.0     117\n",
       "2015.0      88\n",
       "2014.0      25\n",
       "2011.0      13\n",
       "2013.0      11\n",
       "2012.0       3\n",
       "2008.0       2\n",
       "2009.0       2\n",
       "2010.0       1\n",
       "Name: Date_N, dtype: int64"
      ]
     },
     "execution_count": 31,
     "metadata": {},
     "output_type": "execute_result"
    }
   ],
   "source": [
    "data['Date_N'].dt.year.value_counts()      #it counts the occurence of all individual year in Date column"
   ]
  },
  {
   "cell_type": "markdown",
   "metadata": {},
   "source": [
    "Bar Graph"
   ]
  },
  {
   "cell_type": "code",
   "execution_count": 32,
   "metadata": {},
   "outputs": [
    {
     "data": {
      "text/plain": [
       "<AxesSubplot: >"
      ]
     },
     "execution_count": 32,
     "metadata": {},
     "output_type": "execute_result"
    },
    {
     "data": {
      "image/png": "[encoded data removed]",
      "text/plain": [
       "<Figure size 640x480 with 1 Axes>"
      ]
     },
     "metadata": {},
     "output_type": "display_data"
    }
   ],
   "source": [
    "data['Date_N'].dt.year.value_counts().plot(kind='bar')"
   ]
  },
  {
   "cell_type": "markdown",
   "metadata": {},
   "source": [
    "Task 4:How many movies and TV shows are in the dataset? "
   ]
  },
  {
   "cell_type": "markdown",
   "metadata": {},
   "source": [
    "groupby()"
   ]
  },
  {
   "cell_type": "code",
   "execution_count": 33,
   "metadata": {},
   "outputs": [
    {
     "data": {
      "text/html": [
       "<div>\n",
       "<style scoped>\n",
       "    .dataframe tbody tr th:only-of-type {\n",
       "        vertical-align: middle;\n",
       "    }\n",
       "\n",
       "    .dataframe tbody tr th {\n",
       "        vertical-align: top;\n",
       "    }\n",
       "\n",
       "    .dataframe thead th {\n",
       "        text-align: right;\n",
       "    }\n",
       "</style>\n",
       "<table border=\"1\" class=\"dataframe\">\n",
       "  <thead>\n",
       "    <tr style=\"text-align: right;\">\n",
       "      <th></th>\n",
       "      <th>Show_Id</th>\n",
       "      <th>Category</th>\n",
       "      <th>Title</th>\n",
       "      <th>Director</th>\n",
       "      <th>Cast</th>\n",
       "      <th>Country</th>\n",
       "      <th>Release_Date</th>\n",
       "      <th>Rating</th>\n",
       "      <th>Duration</th>\n",
       "      <th>Type</th>\n",
       "      <th>Description</th>\n",
       "      <th>Date_N</th>\n",
       "    </tr>\n",
       "  </thead>\n",
       "  <tbody>\n",
       "    <tr>\n",
       "      <th>0</th>\n",
       "      <td>s1</td>\n",
       "      <td>TV Show</td>\n",
       "      <td>3%</td>\n",
       "      <td>NaN</td>\n",
       "      <td>João Miguel, Bianca Comparato, Michel Gomes, R...</td>\n",
       "      <td>Brazil</td>\n",
       "      <td>August 14, 2020</td>\n",
       "      <td>TV-MA</td>\n",
       "      <td>4 Seasons</td>\n",
       "      <td>International TV Shows, TV Dramas, TV Sci-Fi &amp;...</td>\n",
       "      <td>In a future where the elite inhabit an island ...</td>\n",
       "      <td>2020-08-14</td>\n",
       "    </tr>\n",
       "    <tr>\n",
       "      <th>1</th>\n",
       "      <td>s2</td>\n",
       "      <td>Movie</td>\n",
       "      <td>07:19</td>\n",
       "      <td>Jorge Michel Grau</td>\n",
       "      <td>Demián Bichir, Héctor Bonilla, Oscar Serrano, ...</td>\n",
       "      <td>Mexico</td>\n",
       "      <td>December 23, 2016</td>\n",
       "      <td>TV-MA</td>\n",
       "      <td>93 min</td>\n",
       "      <td>Dramas, International Movies</td>\n",
       "      <td>After a devastating earthquake hits Mexico Cit...</td>\n",
       "      <td>2016-12-23</td>\n",
       "    </tr>\n",
       "    <tr>\n",
       "      <th>2</th>\n",
       "      <td>s3</td>\n",
       "      <td>Movie</td>\n",
       "      <td>23:59</td>\n",
       "      <td>Gilbert Chan</td>\n",
       "      <td>Tedd Chan, Stella Chung, Henley Hii, Lawrence ...</td>\n",
       "      <td>Singapore</td>\n",
       "      <td>December 20, 2018</td>\n",
       "      <td>R</td>\n",
       "      <td>78 min</td>\n",
       "      <td>Horror Movies, International Movies</td>\n",
       "      <td>When an army recruit is found dead, his fellow...</td>\n",
       "      <td>2018-12-20</td>\n",
       "    </tr>\n",
       "    <tr>\n",
       "      <th>3</th>\n",
       "      <td>s4</td>\n",
       "      <td>Movie</td>\n",
       "      <td>9</td>\n",
       "      <td>Shane Acker</td>\n",
       "      <td>Elijah Wood, John C. Reilly, Jennifer Connelly...</td>\n",
       "      <td>United States</td>\n",
       "      <td>November 16, 2017</td>\n",
       "      <td>PG-13</td>\n",
       "      <td>80 min</td>\n",
       "      <td>Action &amp; Adventure, Independent Movies, Sci-Fi...</td>\n",
       "      <td>In a postapocalyptic world, rag-doll robots hi...</td>\n",
       "      <td>2017-11-16</td>\n",
       "    </tr>\n",
       "    <tr>\n",
       "      <th>4</th>\n",
       "      <td>s5</td>\n",
       "      <td>Movie</td>\n",
       "      <td>21</td>\n",
       "      <td>Robert Luketic</td>\n",
       "      <td>Jim Sturgess, Kevin Spacey, Kate Bosworth, Aar...</td>\n",
       "      <td>United States</td>\n",
       "      <td>January 1, 2020</td>\n",
       "      <td>PG-13</td>\n",
       "      <td>123 min</td>\n",
       "      <td>Dramas</td>\n",
       "      <td>A brilliant group of students become card-coun...</td>\n",
       "      <td>2020-01-01</td>\n",
       "    </tr>\n",
       "  </tbody>\n",
       "</table>\n",
       "</div>"
      ],
      "text/plain": [
       "  Show_Id Category  Title           Director  \\\n",
       "0      s1  TV Show     3%                NaN   \n",
       "1      s2    Movie  07:19  Jorge Michel Grau   \n",
       "2      s3    Movie  23:59       Gilbert Chan   \n",
       "3      s4    Movie      9        Shane Acker   \n",
       "4      s5    Movie     21     Robert Luketic   \n",
       "\n",
       "                                                Cast        Country  \\\n",
       "0  João Miguel, Bianca Comparato, Michel Gomes, R...         Brazil   \n",
       "1  Demián Bichir, Héctor Bonilla, Oscar Serrano, ...         Mexico   \n",
       "2  Tedd Chan, Stella Chung, Henley Hii, Lawrence ...      Singapore   \n",
       "3  Elijah Wood, John C. Reilly, Jennifer Connelly...  United States   \n",
       "4  Jim Sturgess, Kevin Spacey, Kate Bosworth, Aar...  United States   \n",
       "\n",
       "        Release_Date Rating   Duration  \\\n",
       "0    August 14, 2020  TV-MA  4 Seasons   \n",
       "1  December 23, 2016  TV-MA     93 min   \n",
       "2  December 20, 2018      R     78 min   \n",
       "3  November 16, 2017  PG-13     80 min   \n",
       "4    January 1, 2020  PG-13    123 min   \n",
       "\n",
       "                                                Type  \\\n",
       "0  International TV Shows, TV Dramas, TV Sci-Fi &...   \n",
       "1                       Dramas, International Movies   \n",
       "2                Horror Movies, International Movies   \n",
       "3  Action & Adventure, Independent Movies, Sci-Fi...   \n",
       "4                                             Dramas   \n",
       "\n",
       "                                         Description     Date_N  \n",
       "0  In a future where the elite inhabit an island ... 2020-08-14  \n",
       "1  After a devastating earthquake hits Mexico Cit... 2016-12-23  \n",
       "2  When an army recruit is found dead, his fellow... 2018-12-20  \n",
       "3  In a postapocalyptic world, rag-doll robots hi... 2017-11-16  \n",
       "4  A brilliant group of students become card-coun... 2020-01-01  "
      ]
     },
     "execution_count": 33,
     "metadata": {},
     "output_type": "execute_result"
    }
   ],
   "source": [
    "data.head()"
   ]
  },
  {
   "cell_type": "code",
   "execution_count": 34,
   "metadata": {},
   "outputs": [
    {
     "data": {
      "text/plain": [
       "Category\n",
       "Movie      5377\n",
       "TV Show    2410\n",
       "Name: Category, dtype: int64"
      ]
     },
     "execution_count": 34,
     "metadata": {},
     "output_type": "execute_result"
    }
   ],
   "source": [
    "data.groupby('Category').Category.count()     #to group all unique items of column and show their count"
   ]
  },
  {
   "cell_type": "markdown",
   "metadata": {},
   "source": [
    "Task 5:Show all the movies that were released in year 2000."
   ]
  },
  {
   "cell_type": "code",
   "execution_count": 37,
   "metadata": {},
   "outputs": [],
   "source": [
    "data['Year'] =data['Date_N'].dt.year"
   ]
  },
  {
   "cell_type": "code",
   "execution_count": 39,
   "metadata": {},
   "outputs": [
    {
     "data": {
      "text/html": [
       "<div>\n",
       "<style scoped>\n",
       "    .dataframe tbody tr th:only-of-type {\n",
       "        vertical-align: middle;\n",
       "    }\n",
       "\n",
       "    .dataframe tbody tr th {\n",
       "        vertical-align: top;\n",
       "    }\n",
       "\n",
       "    .dataframe thead th {\n",
       "        text-align: right;\n",
       "    }\n",
       "</style>\n",
       "<table border=\"1\" class=\"dataframe\">\n",
       "  <thead>\n",
       "    <tr style=\"text-align: right;\">\n",
       "      <th></th>\n",
       "      <th>Show_Id</th>\n",
       "      <th>Category</th>\n",
       "      <th>Title</th>\n",
       "      <th>Director</th>\n",
       "      <th>Cast</th>\n",
       "      <th>Country</th>\n",
       "      <th>Release_Date</th>\n",
       "      <th>Rating</th>\n",
       "      <th>Duration</th>\n",
       "      <th>Type</th>\n",
       "      <th>Description</th>\n",
       "      <th>Date_N</th>\n",
       "      <th>Year</th>\n",
       "    </tr>\n",
       "  </thead>\n",
       "  <tbody>\n",
       "    <tr>\n",
       "      <th>0</th>\n",
       "      <td>s1</td>\n",
       "      <td>TV Show</td>\n",
       "      <td>3%</td>\n",
       "      <td>NaN</td>\n",
       "      <td>João Miguel, Bianca Comparato, Michel Gomes, R...</td>\n",
       "      <td>Brazil</td>\n",
       "      <td>August 14, 2020</td>\n",
       "      <td>TV-MA</td>\n",
       "      <td>4 Seasons</td>\n",
       "      <td>International TV Shows, TV Dramas, TV Sci-Fi &amp;...</td>\n",
       "      <td>In a future where the elite inhabit an island ...</td>\n",
       "      <td>2020-08-14</td>\n",
       "      <td>2020.0</td>\n",
       "    </tr>\n",
       "    <tr>\n",
       "      <th>1</th>\n",
       "      <td>s2</td>\n",
       "      <td>Movie</td>\n",
       "      <td>07:19</td>\n",
       "      <td>Jorge Michel Grau</td>\n",
       "      <td>Demián Bichir, Héctor Bonilla, Oscar Serrano, ...</td>\n",
       "      <td>Mexico</td>\n",
       "      <td>December 23, 2016</td>\n",
       "      <td>TV-MA</td>\n",
       "      <td>93 min</td>\n",
       "      <td>Dramas, International Movies</td>\n",
       "      <td>After a devastating earthquake hits Mexico Cit...</td>\n",
       "      <td>2016-12-23</td>\n",
       "      <td>2016.0</td>\n",
       "    </tr>\n",
       "  </tbody>\n",
       "</table>\n",
       "</div>"
      ],
      "text/plain": [
       "  Show_Id Category  Title           Director  \\\n",
       "0      s1  TV Show     3%                NaN   \n",
       "1      s2    Movie  07:19  Jorge Michel Grau   \n",
       "\n",
       "                                                Cast Country  \\\n",
       "0  João Miguel, Bianca Comparato, Michel Gomes, R...  Brazil   \n",
       "1  Demián Bichir, Héctor Bonilla, Oscar Serrano, ...  Mexico   \n",
       "\n",
       "        Release_Date Rating   Duration  \\\n",
       "0    August 14, 2020  TV-MA  4 Seasons   \n",
       "1  December 23, 2016  TV-MA     93 min   \n",
       "\n",
       "                                                Type  \\\n",
       "0  International TV Shows, TV Dramas, TV Sci-Fi &...   \n",
       "1                       Dramas, International Movies   \n",
       "\n",
       "                                         Description     Date_N    Year  \n",
       "0  In a future where the elite inhabit an island ... 2020-08-14  2020.0  \n",
       "1  After a devastating earthquake hits Mexico Cit... 2016-12-23  2016.0  "
      ]
     },
     "execution_count": 39,
     "metadata": {},
     "output_type": "execute_result"
    }
   ],
   "source": [
    "data.head(2)"
   ]
  },
  {
   "cell_type": "markdown",
   "metadata": {},
   "source": [
    "Filtering"
   ]
  },
  {
   "cell_type": "code",
   "execution_count": 41,
   "metadata": {},
   "outputs": [
    {
     "data": {
      "text/plain": [
       "0       False\n",
       "1       False\n",
       "2       False\n",
       "3       False\n",
       "4       False\n",
       "        ...  \n",
       "7784    False\n",
       "7785    False\n",
       "7786    False\n",
       "7787    False\n",
       "7788    False\n",
       "Length: 7787, dtype: bool"
      ]
     },
     "execution_count": 41,
     "metadata": {},
     "output_type": "execute_result"
    }
   ],
   "source": [
    "(data['Category']=='Movie')&(data['Year']==2000)"
   ]
  },
  {
   "cell_type": "code",
   "execution_count": 42,
   "metadata": {},
   "outputs": [
    {
     "data": {
      "text/html": [
       "<div>\n",
       "<style scoped>\n",
       "    .dataframe tbody tr th:only-of-type {\n",
       "        vertical-align: middle;\n",
       "    }\n",
       "\n",
       "    .dataframe tbody tr th {\n",
       "        vertical-align: top;\n",
       "    }\n",
       "\n",
       "    .dataframe thead th {\n",
       "        text-align: right;\n",
       "    }\n",
       "</style>\n",
       "<table border=\"1\" class=\"dataframe\">\n",
       "  <thead>\n",
       "    <tr style=\"text-align: right;\">\n",
       "      <th></th>\n",
       "      <th>Show_Id</th>\n",
       "      <th>Category</th>\n",
       "      <th>Title</th>\n",
       "      <th>Director</th>\n",
       "      <th>Cast</th>\n",
       "      <th>Country</th>\n",
       "      <th>Release_Date</th>\n",
       "      <th>Rating</th>\n",
       "      <th>Duration</th>\n",
       "      <th>Type</th>\n",
       "      <th>Description</th>\n",
       "      <th>Date_N</th>\n",
       "      <th>Year</th>\n",
       "    </tr>\n",
       "  </thead>\n",
       "  <tbody>\n",
       "  </tbody>\n",
       "</table>\n",
       "</div>"
      ],
      "text/plain": [
       "Empty DataFrame\n",
       "Columns: [Show_Id, Category, Title, Director, Cast, Country, Release_Date, Rating, Duration, Type, Description, Date_N, Year]\n",
       "Index: []"
      ]
     },
     "execution_count": 42,
     "metadata": {},
     "output_type": "execute_result"
    }
   ],
   "source": [
    "data[(data['Category']=='Movie')&(data['Year']==2000)]"
   ]
  },
  {
   "cell_type": "markdown",
   "metadata": {},
   "source": [
    "Task 6: Show only title of all TV shows that were released in INDIA only."
   ]
  },
  {
   "cell_type": "markdown",
   "metadata": {},
   "source": [
    "Filtering"
   ]
  },
  {
   "cell_type": "code",
   "execution_count": 44,
   "metadata": {},
   "outputs": [
    {
     "data": {
      "text/html": [
       "<div>\n",
       "<style scoped>\n",
       "    .dataframe tbody tr th:only-of-type {\n",
       "        vertical-align: middle;\n",
       "    }\n",
       "\n",
       "    .dataframe tbody tr th {\n",
       "        vertical-align: top;\n",
       "    }\n",
       "\n",
       "    .dataframe thead th {\n",
       "        text-align: right;\n",
       "    }\n",
       "</style>\n",
       "<table border=\"1\" class=\"dataframe\">\n",
       "  <thead>\n",
       "    <tr style=\"text-align: right;\">\n",
       "      <th></th>\n",
       "      <th>Show_Id</th>\n",
       "      <th>Category</th>\n",
       "      <th>Title</th>\n",
       "      <th>Director</th>\n",
       "      <th>Cast</th>\n",
       "      <th>Country</th>\n",
       "      <th>Release_Date</th>\n",
       "      <th>Rating</th>\n",
       "      <th>Duration</th>\n",
       "      <th>Type</th>\n",
       "      <th>Description</th>\n",
       "      <th>Date_N</th>\n",
       "      <th>Year</th>\n",
       "    </tr>\n",
       "  </thead>\n",
       "  <tbody>\n",
       "    <tr>\n",
       "      <th>86</th>\n",
       "      <td>s87</td>\n",
       "      <td>TV Show</td>\n",
       "      <td>21 Sarfarosh: Saragarhi 1897</td>\n",
       "      <td>NaN</td>\n",
       "      <td>Luke Kenny, Mohit Raina, Mukul Dev</td>\n",
       "      <td>India</td>\n",
       "      <td>December 1, 2018</td>\n",
       "      <td>TV-14</td>\n",
       "      <td>1 Season</td>\n",
       "      <td>International TV Shows, TV Dramas</td>\n",
       "      <td>In one of history's greatest last stands, a ba...</td>\n",
       "      <td>2018-12-01</td>\n",
       "      <td>2018.0</td>\n",
       "    </tr>\n",
       "    <tr>\n",
       "      <th>132</th>\n",
       "      <td>s133</td>\n",
       "      <td>TV Show</td>\n",
       "      <td>7 (Seven)</td>\n",
       "      <td>Nizar Shafi</td>\n",
       "      <td>Rahman, Havish, Regina Cassandra, Nandita Swet...</td>\n",
       "      <td>India</td>\n",
       "      <td>July 30, 2019</td>\n",
       "      <td>TV-14</td>\n",
       "      <td>1 Season</td>\n",
       "      <td>TV Shows</td>\n",
       "      <td>Multiple women report their husbands as missin...</td>\n",
       "      <td>2019-07-30</td>\n",
       "      <td>2019.0</td>\n",
       "    </tr>\n",
       "    <tr>\n",
       "      <th>340</th>\n",
       "      <td>s341</td>\n",
       "      <td>TV Show</td>\n",
       "      <td>Agent Raghav</td>\n",
       "      <td>NaN</td>\n",
       "      <td>Sharad Kelkar, Aahana Kumra, Mahesh Manjrekar,...</td>\n",
       "      <td>India</td>\n",
       "      <td>April 15, 2017</td>\n",
       "      <td>TV-14</td>\n",
       "      <td>1 Season</td>\n",
       "      <td>Crime TV Shows, International TV Shows, TV Act...</td>\n",
       "      <td>A mix of brilliance, erudition and skill enabl...</td>\n",
       "      <td>2017-04-15</td>\n",
       "      <td>2017.0</td>\n",
       "    </tr>\n",
       "    <tr>\n",
       "      <th>364</th>\n",
       "      <td>s365</td>\n",
       "      <td>TV Show</td>\n",
       "      <td>Akbar Birbal</td>\n",
       "      <td>NaN</td>\n",
       "      <td>Kiku Sharda, Vishal Kotian, Delnaaz Irani</td>\n",
       "      <td>India</td>\n",
       "      <td>March 31, 2020</td>\n",
       "      <td>TV-G</td>\n",
       "      <td>1 Season</td>\n",
       "      <td>Kids' TV, TV Comedies, TV Dramas</td>\n",
       "      <td>From battles of wit to fights for justice, Emp...</td>\n",
       "      <td>2020-03-31</td>\n",
       "      <td>2020.0</td>\n",
       "    </tr>\n",
       "    <tr>\n",
       "      <th>533</th>\n",
       "      <td>s534</td>\n",
       "      <td>TV Show</td>\n",
       "      <td>Anjaan: Rural Myths</td>\n",
       "      <td>NaN</td>\n",
       "      <td>NaN</td>\n",
       "      <td>India</td>\n",
       "      <td>December 15, 2018</td>\n",
       "      <td>TV-14</td>\n",
       "      <td>1 Season</td>\n",
       "      <td>International TV Shows, TV Horror, TV Thrillers</td>\n",
       "      <td>Spine-chilling stories of malevolent spirits u...</td>\n",
       "      <td>2018-12-15</td>\n",
       "      <td>2018.0</td>\n",
       "    </tr>\n",
       "    <tr>\n",
       "      <th>...</th>\n",
       "      <td>...</td>\n",
       "      <td>...</td>\n",
       "      <td>...</td>\n",
       "      <td>...</td>\n",
       "      <td>...</td>\n",
       "      <td>...</td>\n",
       "      <td>...</td>\n",
       "      <td>...</td>\n",
       "      <td>...</td>\n",
       "      <td>...</td>\n",
       "      <td>...</td>\n",
       "      <td>...</td>\n",
       "      <td>...</td>\n",
       "    </tr>\n",
       "    <tr>\n",
       "      <th>6249</th>\n",
       "      <td>s6249</td>\n",
       "      <td>TV Show</td>\n",
       "      <td>The Creative Indians</td>\n",
       "      <td>NaN</td>\n",
       "      <td>NaN</td>\n",
       "      <td>India</td>\n",
       "      <td>August 24, 2020</td>\n",
       "      <td>TV-MA</td>\n",
       "      <td>2 Seasons</td>\n",
       "      <td>Docuseries, International TV Shows</td>\n",
       "      <td>From chefs and comedians to filmmakers and fas...</td>\n",
       "      <td>2020-08-24</td>\n",
       "      <td>2020.0</td>\n",
       "    </tr>\n",
       "    <tr>\n",
       "      <th>6400</th>\n",
       "      <td>s6399</td>\n",
       "      <td>TV Show</td>\n",
       "      <td>The Golden Years with Javed Akhtar</td>\n",
       "      <td>NaN</td>\n",
       "      <td>NaN</td>\n",
       "      <td>India</td>\n",
       "      <td>June 1, 2017</td>\n",
       "      <td>TV-G</td>\n",
       "      <td>1 Season</td>\n",
       "      <td>Docuseries, International TV Shows</td>\n",
       "      <td>Writer, poet and lyricist Javed Akhtar hosts t...</td>\n",
       "      <td>2017-06-01</td>\n",
       "      <td>2017.0</td>\n",
       "    </tr>\n",
       "    <tr>\n",
       "      <th>6469</th>\n",
       "      <td>s6468</td>\n",
       "      <td>TV Show</td>\n",
       "      <td>The House That Made Me</td>\n",
       "      <td>NaN</td>\n",
       "      <td>Vinay Pathak</td>\n",
       "      <td>India</td>\n",
       "      <td>March 31, 2017</td>\n",
       "      <td>TV-PG</td>\n",
       "      <td>3 Seasons</td>\n",
       "      <td>International TV Shows, Reality TV</td>\n",
       "      <td>With host Vinay Pathak, Indian celebrities ret...</td>\n",
       "      <td>2017-03-31</td>\n",
       "      <td>2017.0</td>\n",
       "    </tr>\n",
       "    <tr>\n",
       "      <th>7294</th>\n",
       "      <td>s7293</td>\n",
       "      <td>TV Show</td>\n",
       "      <td>Typewriter</td>\n",
       "      <td>NaN</td>\n",
       "      <td>Aarna Sharma, Aaryansh Malviya, Mikail Gandhi,...</td>\n",
       "      <td>India</td>\n",
       "      <td>July 19, 2019</td>\n",
       "      <td>TV-MA</td>\n",
       "      <td>1 Season</td>\n",
       "      <td>International TV Shows, TV Horror, TV Mysteries</td>\n",
       "      <td>Three young friends in Goa plan to search an o...</td>\n",
       "      <td>2019-07-19</td>\n",
       "      <td>2019.0</td>\n",
       "    </tr>\n",
       "    <tr>\n",
       "      <th>7705</th>\n",
       "      <td>s7704</td>\n",
       "      <td>TV Show</td>\n",
       "      <td>Yeh Meri Family</td>\n",
       "      <td>NaN</td>\n",
       "      <td>Vishesh Bansal, Mona Singh, Akarsh Khurana, Ah...</td>\n",
       "      <td>India</td>\n",
       "      <td>August 31, 2018</td>\n",
       "      <td>TV-PG</td>\n",
       "      <td>1 Season</td>\n",
       "      <td>International TV Shows, TV Comedies</td>\n",
       "      <td>In the summer of 1998, middle child Harshu bal...</td>\n",
       "      <td>2018-08-31</td>\n",
       "      <td>2018.0</td>\n",
       "    </tr>\n",
       "  </tbody>\n",
       "</table>\n",
       "<p>71 rows × 13 columns</p>\n",
       "</div>"
      ],
      "text/plain": [
       "     Show_Id Category                               Title     Director  \\\n",
       "86       s87  TV Show        21 Sarfarosh: Saragarhi 1897          NaN   \n",
       "132     s133  TV Show                           7 (Seven)  Nizar Shafi   \n",
       "340     s341  TV Show                        Agent Raghav          NaN   \n",
       "364     s365  TV Show                        Akbar Birbal          NaN   \n",
       "533     s534  TV Show                 Anjaan: Rural Myths          NaN   \n",
       "...      ...      ...                                 ...          ...   \n",
       "6249   s6249  TV Show                The Creative Indians          NaN   \n",
       "6400   s6399  TV Show  The Golden Years with Javed Akhtar          NaN   \n",
       "6469   s6468  TV Show              The House That Made Me          NaN   \n",
       "7294   s7293  TV Show                          Typewriter          NaN   \n",
       "7705   s7704  TV Show                     Yeh Meri Family          NaN   \n",
       "\n",
       "                                                   Cast Country  \\\n",
       "86                   Luke Kenny, Mohit Raina, Mukul Dev   India   \n",
       "132   Rahman, Havish, Regina Cassandra, Nandita Swet...   India   \n",
       "340   Sharad Kelkar, Aahana Kumra, Mahesh Manjrekar,...   India   \n",
       "364           Kiku Sharda, Vishal Kotian, Delnaaz Irani   India   \n",
       "533                                                 NaN   India   \n",
       "...                                                 ...     ...   \n",
       "6249                                                NaN   India   \n",
       "6400                                                NaN   India   \n",
       "6469                                       Vinay Pathak   India   \n",
       "7294  Aarna Sharma, Aaryansh Malviya, Mikail Gandhi,...   India   \n",
       "7705  Vishesh Bansal, Mona Singh, Akarsh Khurana, Ah...   India   \n",
       "\n",
       "           Release_Date Rating   Duration  \\\n",
       "86     December 1, 2018  TV-14   1 Season   \n",
       "132       July 30, 2019  TV-14   1 Season   \n",
       "340      April 15, 2017  TV-14   1 Season   \n",
       "364      March 31, 2020   TV-G   1 Season   \n",
       "533   December 15, 2018  TV-14   1 Season   \n",
       "...                 ...    ...        ...   \n",
       "6249    August 24, 2020  TV-MA  2 Seasons   \n",
       "6400       June 1, 2017   TV-G   1 Season   \n",
       "6469     March 31, 2017  TV-PG  3 Seasons   \n",
       "7294      July 19, 2019  TV-MA   1 Season   \n",
       "7705    August 31, 2018  TV-PG   1 Season   \n",
       "\n",
       "                                                   Type  \\\n",
       "86                    International TV Shows, TV Dramas   \n",
       "132                                            TV Shows   \n",
       "340   Crime TV Shows, International TV Shows, TV Act...   \n",
       "364                    Kids' TV, TV Comedies, TV Dramas   \n",
       "533     International TV Shows, TV Horror, TV Thrillers   \n",
       "...                                                 ...   \n",
       "6249                 Docuseries, International TV Shows   \n",
       "6400                 Docuseries, International TV Shows   \n",
       "6469                 International TV Shows, Reality TV   \n",
       "7294    International TV Shows, TV Horror, TV Mysteries   \n",
       "7705                International TV Shows, TV Comedies   \n",
       "\n",
       "                                            Description     Date_N    Year  \n",
       "86    In one of history's greatest last stands, a ba... 2018-12-01  2018.0  \n",
       "132   Multiple women report their husbands as missin... 2019-07-30  2019.0  \n",
       "340   A mix of brilliance, erudition and skill enabl... 2017-04-15  2017.0  \n",
       "364   From battles of wit to fights for justice, Emp... 2020-03-31  2020.0  \n",
       "533   Spine-chilling stories of malevolent spirits u... 2018-12-15  2018.0  \n",
       "...                                                 ...        ...     ...  \n",
       "6249  From chefs and comedians to filmmakers and fas... 2020-08-24  2020.0  \n",
       "6400  Writer, poet and lyricist Javed Akhtar hosts t... 2017-06-01  2017.0  \n",
       "6469  With host Vinay Pathak, Indian celebrities ret... 2017-03-31  2017.0  \n",
       "7294  Three young friends in Goa plan to search an o... 2019-07-19  2019.0  \n",
       "7705  In the summer of 1998, middle child Harshu bal... 2018-08-31  2018.0  \n",
       "\n",
       "[71 rows x 13 columns]"
      ]
     },
     "execution_count": 44,
     "metadata": {},
     "output_type": "execute_result"
    }
   ],
   "source": [
    "data[(data['Category']=='TV Show')&(data['Country']=='India')]"
   ]
  },
  {
   "cell_type": "code",
   "execution_count": 45,
   "metadata": {},
   "outputs": [
    {
     "data": {
      "text/plain": [
       "86            21 Sarfarosh: Saragarhi 1897\n",
       "132                              7 (Seven)\n",
       "340                           Agent Raghav\n",
       "364                           Akbar Birbal\n",
       "533                    Anjaan: Rural Myths\n",
       "                       ...                \n",
       "6249                  The Creative Indians\n",
       "6400    The Golden Years with Javed Akhtar\n",
       "6469                The House That Made Me\n",
       "7294                            Typewriter\n",
       "7705                       Yeh Meri Family\n",
       "Name: Title, Length: 71, dtype: object"
      ]
     },
     "execution_count": 45,
     "metadata": {},
     "output_type": "execute_result"
    }
   ],
   "source": [
    "#to show just the title \n",
    "data[(data['Category']=='TV Show')&(data['Country']=='India')] ['Title']"
   ]
  },
  {
   "cell_type": "code",
   "execution_count": 47,
   "metadata": {},
   "outputs": [
    {
     "data": {
      "text/plain": [
       "<AxesSubplot: ylabel='Category'>"
      ]
     },
     "execution_count": 47,
     "metadata": {},
     "output_type": "execute_result"
    },
    {
     "data": {
      "image/png": "[encoded data removed]",
      "text/plain": [
       "<Figure size 640x480 with 1 Axes>"
      ]
     },
     "metadata": {},
     "output_type": "display_data"
    }
   ],
   "source": [
    "#This shows the total percent of movies and tv shows present in our dataset\n",
    "data['Category'].value_counts().plot(kind='pie',autopct='%1.2f%%')"
   ]
  },
  {
   "cell_type": "code",
   "execution_count": 56,
   "metadata": {},
   "outputs": [
    {
     "data": {
      "text/plain": [
       "<AxesSubplot: >"
      ]
     },
     "execution_count": 56,
     "metadata": {},
     "output_type": "execute_result"
    },
    {
     "data": {
      "image/png": "[encoded data removed]",
      "text/plain": [
       "<Figure size 640x480 with 1 Axes>"
      ]
     },
     "metadata": {},
     "output_type": "display_data"
    }
   ],
   "source": [
    "data['Category'].value_counts().plot(kind='bar')"
   ]
  },
  {
   "cell_type": "code",
   "execution_count": 49,
   "metadata": {},
   "outputs": [
    {
     "data": {
      "text/plain": [
       "<AxesSubplot: ylabel='Rating'>"
      ]
     },
     "execution_count": 49,
     "metadata": {},
     "output_type": "execute_result"
    },
    {
     "data": {
      "image/png": "[encoded data removed]",
      "text/plain": [
       "<Figure size 640x480 with 1 Axes>"
      ]
     },
     "metadata": {},
     "output_type": "display_data"
    }
   ],
   "source": [
    "data['Rating'].value_counts().plot(kind='pie',autopct='%1.2f%%')"
   ]
  },
  {
   "cell_type": "code",
   "execution_count": 51,
   "metadata": {},
   "outputs": [
    {
     "data": {
      "text/plain": [
       "<AxesSubplot: ylabel='Year'>"
      ]
     },
     "execution_count": 51,
     "metadata": {},
     "output_type": "execute_result"
    },
    {
     "data": {
      "image/png": "[encoded data removed]",
      "text/plain": [
       "<Figure size 640x480 with 1 Axes>"
      ]
     },
     "metadata": {},
     "output_type": "display_data"
    }
   ],
   "source": [
    "data['Year'].value_counts().plot(kind='pie',autopct='%1.2f%%')"
   ]
  },
  {
   "cell_type": "markdown",
   "metadata": {},
   "source": [
    "Bar Graph"
   ]
  },
  {
   "cell_type": "code",
   "execution_count": 53,
   "metadata": {},
   "outputs": [
    {
     "data": {
      "text/plain": [
       "<AxesSubplot: >"
      ]
     },
     "execution_count": 53,
     "metadata": {},
     "output_type": "execute_result"
    },
    {
     "data": {
      "image/png": "[encoded data removed]",
      "text/plain": [
       "<Figure size 640x480 with 1 Axes>"
      ]
     },
     "metadata": {},
     "output_type": "display_data"
    }
   ],
   "source": [
    "data['Date_N'].dt.year.value_counts().plot(kind='bar')"
   ]
  },
  {
   "cell_type": "code",
   "execution_count": 57,
   "metadata": {},
   "outputs": [],
   "source": [
    "import matplotlib.pyplot as plt\n",
    "import seaborn as sns"
   ]
  },
  {
   "cell_type": "markdown",
   "metadata": {},
   "source": [
    "Display the value for a particular category of data"
   ]
  },
  {
   "cell_type": "code",
   "execution_count": 64,
   "metadata": {},
   "outputs": [
    {
     "data": {
      "image/png": "[encoded data removed]",
      "text/plain": [
       "<Figure size 1200x400 with 1 Axes>"
      ]
     },
     "metadata": {},
     "output_type": "display_data"
    }
   ],
   "source": [
    "plt.figure(figsize=(12,4))\n",
    "sns.barplot(x='Rating',y='Year',data=data)\n",
    "plt.show()"
   ]
  },
  {
   "cell_type": "code",
   "execution_count": 74,
   "metadata": {},
   "outputs": [
    {
     "data": {
      "text/plain": [
       "Index(['Year'], dtype='object')"
      ]
     },
     "execution_count": 74,
     "metadata": {},
     "output_type": "execute_result"
    }
   ],
   "source": [
    "numloc=data.select_dtypes(['int64','float64']).columns\n",
    "numloc"
   ]
  },
  {
   "cell_type": "code",
   "execution_count": 68,
   "metadata": {},
   "outputs": [
    {
     "data": {
      "text/html": [
       "<div>\n",
       "<style scoped>\n",
       "    .dataframe tbody tr th:only-of-type {\n",
       "        vertical-align: middle;\n",
       "    }\n",
       "\n",
       "    .dataframe tbody tr th {\n",
       "        vertical-align: top;\n",
       "    }\n",
       "\n",
       "    .dataframe thead th {\n",
       "        text-align: right;\n",
       "    }\n",
       "</style>\n",
       "<table border=\"1\" class=\"dataframe\">\n",
       "  <thead>\n",
       "    <tr style=\"text-align: right;\">\n",
       "      <th></th>\n",
       "      <th>Show_Id</th>\n",
       "      <th>Category</th>\n",
       "      <th>Title</th>\n",
       "      <th>Director</th>\n",
       "      <th>Cast</th>\n",
       "      <th>Country</th>\n",
       "      <th>Release_Date</th>\n",
       "      <th>Rating</th>\n",
       "      <th>Duration</th>\n",
       "      <th>Type</th>\n",
       "      <th>Description</th>\n",
       "      <th>Date_N</th>\n",
       "      <th>Year</th>\n",
       "    </tr>\n",
       "  </thead>\n",
       "  <tbody>\n",
       "    <tr>\n",
       "      <th>0</th>\n",
       "      <td>s1</td>\n",
       "      <td>TV Show</td>\n",
       "      <td>3%</td>\n",
       "      <td>NaN</td>\n",
       "      <td>João Miguel, Bianca Comparato, Michel Gomes, R...</td>\n",
       "      <td>Brazil</td>\n",
       "      <td>August 14, 2020</td>\n",
       "      <td>TV-MA</td>\n",
       "      <td>4 Seasons</td>\n",
       "      <td>International TV Shows, TV Dramas, TV Sci-Fi &amp;...</td>\n",
       "      <td>In a future where the elite inhabit an island ...</td>\n",
       "      <td>2020-08-14</td>\n",
       "      <td>2020.0</td>\n",
       "    </tr>\n",
       "    <tr>\n",
       "      <th>1</th>\n",
       "      <td>s2</td>\n",
       "      <td>Movie</td>\n",
       "      <td>07:19</td>\n",
       "      <td>Jorge Michel Grau</td>\n",
       "      <td>Demián Bichir, Héctor Bonilla, Oscar Serrano, ...</td>\n",
       "      <td>Mexico</td>\n",
       "      <td>December 23, 2016</td>\n",
       "      <td>TV-MA</td>\n",
       "      <td>93 min</td>\n",
       "      <td>Dramas, International Movies</td>\n",
       "      <td>After a devastating earthquake hits Mexico Cit...</td>\n",
       "      <td>2016-12-23</td>\n",
       "      <td>2016.0</td>\n",
       "    </tr>\n",
       "    <tr>\n",
       "      <th>2</th>\n",
       "      <td>s3</td>\n",
       "      <td>Movie</td>\n",
       "      <td>23:59</td>\n",
       "      <td>Gilbert Chan</td>\n",
       "      <td>Tedd Chan, Stella Chung, Henley Hii, Lawrence ...</td>\n",
       "      <td>Singapore</td>\n",
       "      <td>December 20, 2018</td>\n",
       "      <td>R</td>\n",
       "      <td>78 min</td>\n",
       "      <td>Horror Movies, International Movies</td>\n",
       "      <td>When an army recruit is found dead, his fellow...</td>\n",
       "      <td>2018-12-20</td>\n",
       "      <td>2018.0</td>\n",
       "    </tr>\n",
       "    <tr>\n",
       "      <th>3</th>\n",
       "      <td>s4</td>\n",
       "      <td>Movie</td>\n",
       "      <td>9</td>\n",
       "      <td>Shane Acker</td>\n",
       "      <td>Elijah Wood, John C. Reilly, Jennifer Connelly...</td>\n",
       "      <td>United States</td>\n",
       "      <td>November 16, 2017</td>\n",
       "      <td>PG-13</td>\n",
       "      <td>80 min</td>\n",
       "      <td>Action &amp; Adventure, Independent Movies, Sci-Fi...</td>\n",
       "      <td>In a postapocalyptic world, rag-doll robots hi...</td>\n",
       "      <td>2017-11-16</td>\n",
       "      <td>2017.0</td>\n",
       "    </tr>\n",
       "    <tr>\n",
       "      <th>4</th>\n",
       "      <td>s5</td>\n",
       "      <td>Movie</td>\n",
       "      <td>21</td>\n",
       "      <td>Robert Luketic</td>\n",
       "      <td>Jim Sturgess, Kevin Spacey, Kate Bosworth, Aar...</td>\n",
       "      <td>United States</td>\n",
       "      <td>January 1, 2020</td>\n",
       "      <td>PG-13</td>\n",
       "      <td>123 min</td>\n",
       "      <td>Dramas</td>\n",
       "      <td>A brilliant group of students become card-coun...</td>\n",
       "      <td>2020-01-01</td>\n",
       "      <td>2020.0</td>\n",
       "    </tr>\n",
       "    <tr>\n",
       "      <th>...</th>\n",
       "      <td>...</td>\n",
       "      <td>...</td>\n",
       "      <td>...</td>\n",
       "      <td>...</td>\n",
       "      <td>...</td>\n",
       "      <td>...</td>\n",
       "      <td>...</td>\n",
       "      <td>...</td>\n",
       "      <td>...</td>\n",
       "      <td>...</td>\n",
       "      <td>...</td>\n",
       "      <td>...</td>\n",
       "      <td>...</td>\n",
       "    </tr>\n",
       "    <tr>\n",
       "      <th>7784</th>\n",
       "      <td>s7783</td>\n",
       "      <td>Movie</td>\n",
       "      <td>Zozo</td>\n",
       "      <td>Josef Fares</td>\n",
       "      <td>Imad Creidi, Antoinette Turk, Elias Gergi, Car...</td>\n",
       "      <td>Sweden, Czech Republic, United Kingdom, Denmar...</td>\n",
       "      <td>October 19, 2020</td>\n",
       "      <td>TV-MA</td>\n",
       "      <td>99 min</td>\n",
       "      <td>Dramas, International Movies</td>\n",
       "      <td>When Lebanon's Civil War deprives Zozo of his ...</td>\n",
       "      <td>2020-10-19</td>\n",
       "      <td>2020.0</td>\n",
       "    </tr>\n",
       "    <tr>\n",
       "      <th>7785</th>\n",
       "      <td>s7784</td>\n",
       "      <td>Movie</td>\n",
       "      <td>Zubaan</td>\n",
       "      <td>Mozez Singh</td>\n",
       "      <td>Vicky Kaushal, Sarah-Jane Dias, Raaghav Chanan...</td>\n",
       "      <td>India</td>\n",
       "      <td>March 2, 2019</td>\n",
       "      <td>TV-14</td>\n",
       "      <td>111 min</td>\n",
       "      <td>Dramas, International Movies, Music &amp; Musicals</td>\n",
       "      <td>A scrappy but poor boy worms his way into a ty...</td>\n",
       "      <td>2019-03-02</td>\n",
       "      <td>2019.0</td>\n",
       "    </tr>\n",
       "    <tr>\n",
       "      <th>7786</th>\n",
       "      <td>s7785</td>\n",
       "      <td>Movie</td>\n",
       "      <td>Zulu Man in Japan</td>\n",
       "      <td>NaN</td>\n",
       "      <td>Nasty C</td>\n",
       "      <td>NaN</td>\n",
       "      <td>September 25, 2020</td>\n",
       "      <td>TV-MA</td>\n",
       "      <td>44 min</td>\n",
       "      <td>Documentaries, International Movies, Music &amp; M...</td>\n",
       "      <td>In this documentary, South African rapper Nast...</td>\n",
       "      <td>2020-09-25</td>\n",
       "      <td>2020.0</td>\n",
       "    </tr>\n",
       "    <tr>\n",
       "      <th>7787</th>\n",
       "      <td>s7786</td>\n",
       "      <td>TV Show</td>\n",
       "      <td>Zumbo's Just Desserts</td>\n",
       "      <td>NaN</td>\n",
       "      <td>Adriano Zumbo, Rachel Khoo</td>\n",
       "      <td>Australia</td>\n",
       "      <td>October 31, 2020</td>\n",
       "      <td>TV-PG</td>\n",
       "      <td>1 Season</td>\n",
       "      <td>International TV Shows, Reality TV</td>\n",
       "      <td>Dessert wizard Adriano Zumbo looks for the nex...</td>\n",
       "      <td>2020-10-31</td>\n",
       "      <td>2020.0</td>\n",
       "    </tr>\n",
       "    <tr>\n",
       "      <th>7788</th>\n",
       "      <td>s7787</td>\n",
       "      <td>Movie</td>\n",
       "      <td>ZZ TOP: THAT LITTLE OL' BAND FROM TEXAS</td>\n",
       "      <td>Sam Dunn</td>\n",
       "      <td>NaN</td>\n",
       "      <td>United Kingdom, Canada, United States</td>\n",
       "      <td>March 1, 2020</td>\n",
       "      <td>TV-MA</td>\n",
       "      <td>90 min</td>\n",
       "      <td>Documentaries, Music &amp; Musicals</td>\n",
       "      <td>This documentary delves into the mystique behi...</td>\n",
       "      <td>2020-03-01</td>\n",
       "      <td>2020.0</td>\n",
       "    </tr>\n",
       "  </tbody>\n",
       "</table>\n",
       "<p>7787 rows × 13 columns</p>\n",
       "</div>"
      ],
      "text/plain": [
       "     Show_Id Category                                    Title  \\\n",
       "0         s1  TV Show                                       3%   \n",
       "1         s2    Movie                                    07:19   \n",
       "2         s3    Movie                                    23:59   \n",
       "3         s4    Movie                                        9   \n",
       "4         s5    Movie                                       21   \n",
       "...      ...      ...                                      ...   \n",
       "7784   s7783    Movie                                     Zozo   \n",
       "7785   s7784    Movie                                   Zubaan   \n",
       "7786   s7785    Movie                        Zulu Man in Japan   \n",
       "7787   s7786  TV Show                    Zumbo's Just Desserts   \n",
       "7788   s7787    Movie  ZZ TOP: THAT LITTLE OL' BAND FROM TEXAS   \n",
       "\n",
       "               Director                                               Cast  \\\n",
       "0                   NaN  João Miguel, Bianca Comparato, Michel Gomes, R...   \n",
       "1     Jorge Michel Grau  Demián Bichir, Héctor Bonilla, Oscar Serrano, ...   \n",
       "2          Gilbert Chan  Tedd Chan, Stella Chung, Henley Hii, Lawrence ...   \n",
       "3           Shane Acker  Elijah Wood, John C. Reilly, Jennifer Connelly...   \n",
       "4        Robert Luketic  Jim Sturgess, Kevin Spacey, Kate Bosworth, Aar...   \n",
       "...                 ...                                                ...   \n",
       "7784        Josef Fares  Imad Creidi, Antoinette Turk, Elias Gergi, Car...   \n",
       "7785        Mozez Singh  Vicky Kaushal, Sarah-Jane Dias, Raaghav Chanan...   \n",
       "7786                NaN                                            Nasty C   \n",
       "7787                NaN                         Adriano Zumbo, Rachel Khoo   \n",
       "7788           Sam Dunn                                                NaN   \n",
       "\n",
       "                                                Country        Release_Date  \\\n",
       "0                                                Brazil     August 14, 2020   \n",
       "1                                                Mexico   December 23, 2016   \n",
       "2                                             Singapore   December 20, 2018   \n",
       "3                                         United States   November 16, 2017   \n",
       "4                                         United States     January 1, 2020   \n",
       "...                                                 ...                 ...   \n",
       "7784  Sweden, Czech Republic, United Kingdom, Denmar...    October 19, 2020   \n",
       "7785                                              India       March 2, 2019   \n",
       "7786                                                NaN  September 25, 2020   \n",
       "7787                                          Australia    October 31, 2020   \n",
       "7788              United Kingdom, Canada, United States       March 1, 2020   \n",
       "\n",
       "     Rating   Duration                                               Type  \\\n",
       "0     TV-MA  4 Seasons  International TV Shows, TV Dramas, TV Sci-Fi &...   \n",
       "1     TV-MA     93 min                       Dramas, International Movies   \n",
       "2         R     78 min                Horror Movies, International Movies   \n",
       "3     PG-13     80 min  Action & Adventure, Independent Movies, Sci-Fi...   \n",
       "4     PG-13    123 min                                             Dramas   \n",
       "...     ...        ...                                                ...   \n",
       "7784  TV-MA     99 min                       Dramas, International Movies   \n",
       "7785  TV-14    111 min     Dramas, International Movies, Music & Musicals   \n",
       "7786  TV-MA     44 min  Documentaries, International Movies, Music & M...   \n",
       "7787  TV-PG   1 Season                 International TV Shows, Reality TV   \n",
       "7788  TV-MA     90 min                    Documentaries, Music & Musicals   \n",
       "\n",
       "                                            Description     Date_N    Year  \n",
       "0     In a future where the elite inhabit an island ... 2020-08-14  2020.0  \n",
       "1     After a devastating earthquake hits Mexico Cit... 2016-12-23  2016.0  \n",
       "2     When an army recruit is found dead, his fellow... 2018-12-20  2018.0  \n",
       "3     In a postapocalyptic world, rag-doll robots hi... 2017-11-16  2017.0  \n",
       "4     A brilliant group of students become card-coun... 2020-01-01  2020.0  \n",
       "...                                                 ...        ...     ...  \n",
       "7784  When Lebanon's Civil War deprives Zozo of his ... 2020-10-19  2020.0  \n",
       "7785  A scrappy but poor boy worms his way into a ty... 2019-03-02  2019.0  \n",
       "7786  In this documentary, South African rapper Nast... 2020-09-25  2020.0  \n",
       "7787  Dessert wizard Adriano Zumbo looks for the nex... 2020-10-31  2020.0  \n",
       "7788  This documentary delves into the mystique behi... 2020-03-01  2020.0  \n",
       "\n",
       "[7787 rows x 13 columns]"
      ]
     },
     "execution_count": 68,
     "metadata": {},
     "output_type": "execute_result"
    }
   ],
   "source": [
    "data"
   ]
  },
  {
   "cell_type": "code",
   "execution_count": 69,
   "metadata": {},
   "outputs": [
    {
     "data": {
      "image/png": "[encoded data removed]",
      "text/plain": [
       "<Figure size 1200x1200 with 2 Axes>"
      ]
     },
     "metadata": {},
     "output_type": "display_data"
    }
   ],
   "source": [
    "data.hist(figsize=(12,12))\n",
    "plt.show()"
   ]
  },
  {
   "cell_type": "code",
   "execution_count": 70,
   "metadata": {},
   "outputs": [
    {
     "data": {
      "text/plain": [
       "<seaborn.axisgrid.PairGrid at 0x1fb19554a90>"
      ]
     },
     "execution_count": 70,
     "metadata": {},
     "output_type": "execute_result"
    },
    {
     "data": {
      "image/png": "[encoded data removed]",
      "text/plain": [
       "<Figure size 250x250 with 2 Axes>"
      ]
     },
     "metadata": {},
     "output_type": "display_data"
    }
   ],
   "source": [
    "sns.pairplot(data)"
   ]
  },
  {
   "cell_type": "code",
   "execution_count": 71,
   "metadata": {},
   "outputs": [
    {
     "data": {
      "text/plain": [
       "<AxesSubplot: >"
      ]
     },
     "execution_count": 71,
     "metadata": {},
     "output_type": "execute_result"
    },
    {
     "data": {
      "image/png": "[encoded data removed]",
      "text/plain": [
       "<Figure size 640x480 with 2 Axes>"
      ]
     },
     "metadata": {},
     "output_type": "display_data"
    }
   ],
   "source": [
    "sns.heatmap(data.isnull())"
   ]
  },
  {
   "cell_type": "code",
   "execution_count": 75,
   "metadata": {},
   "outputs": [
    {
     "data": {
      "image/png": "[encoded data removed]",
      "text/plain": [
       "<Figure size 1200x800 with 1 Axes>"
      ]
     },
     "metadata": {},
     "output_type": "display_data"
    }
   ],
   "source": [
    "plt.figure(figsize=(12,8),facecolor='pink')\n",
    "pltn=1\n",
    "for i in numloc:\n",
    "    if pltn<=5:\n",
    "        ax=plt.subplot(3,2,pltn)\n",
    "        sns.boxplot(data[i],color='blue')\n",
    "        plt.xlabel(i,fontsize=12)\n",
    "    pltn=pltn+1\n",
    "plt.tight_layout()"
   ]
  },
  {
   "cell_type": "code",
   "execution_count": 73,
   "metadata": {},
   "outputs": [
    {
     "name": "stderr",
     "output_type": "stream",
     "text": [
      "C:\\Users\\Shreeya Thakur\\AppData\\Local\\Temp\\ipykernel_117968\\2578434383.py:1: FutureWarning: The default value of numeric_only in DataFrame.corr is deprecated. In a future version, it will default to False. Select only valid columns or specify the value of numeric_only to silence this warning.\n",
      "  sns.heatmap(data.corr(),annot=True)\n"
     ]
    },
    {
     "data": {
      "text/plain": [
       "<AxesSubplot: >"
      ]
     },
     "execution_count": 73,
     "metadata": {},
     "output_type": "execute_result"
    },
    {
     "data": {
      "image/png": "[encoded data removed]",
      "text/plain": [
       "<Figure size 640x480 with 2 Axes>"
      ]
     },
     "metadata": {},
     "output_type": "display_data"
    }
   ],
   "source": [
    "sns.heatmap(data.corr(),annot=True)"
   ]
  },
  {
   "cell_type": "markdown",
   "metadata": {},
   "source": [
    "MEAN"
   ]
  },
  {
   "cell_type": "code",
   "execution_count": 77,
   "metadata": {},
   "outputs": [
    {
     "data": {
      "text/plain": [
       "2018.4933779092196"
      ]
     },
     "execution_count": 77,
     "metadata": {},
     "output_type": "execute_result"
    }
   ],
   "source": [
    "data.Year.mean()"
   ]
  },
  {
   "cell_type": "markdown",
   "metadata": {},
   "source": [
    "STANDARD DEVIATION"
   ]
  },
  {
   "cell_type": "code",
   "execution_count": 79,
   "metadata": {},
   "outputs": [
    {
     "data": {
      "text/plain": [
       "Timedelta('504 days 22:08:51.074269592')"
      ]
     },
     "execution_count": 79,
     "metadata": {},
     "output_type": "execute_result"
    }
   ],
   "source": [
    "data.Date_N.std()"
   ]
  },
  {
   "cell_type": "code",
   "execution_count": 84,
   "metadata": {},
   "outputs": [
    {
     "name": "stderr",
     "output_type": "stream",
     "text": [
      "C:\\Users\\Shreeya Thakur\\AppData\\Local\\Temp\\ipykernel_117968\\2315779173.py:1: FutureWarning: \n",
      "\n",
      "`shade` is now deprecated in favor of `fill`; setting `fill=True`.\n",
      "This will become an error in seaborn v0.14.0; please update your code.\n",
      "\n",
      "  sns.kdeplot(data['Date_N'],color='orange',shade=True)\n"
     ]
    },
    {
     "data": {
      "text/plain": [
       "<AxesSubplot: xlabel='Date_N', ylabel='Density'>"
      ]
     },
     "execution_count": 84,
     "metadata": {},
     "output_type": "execute_result"
    },
    {
     "data": {
      "image/png": "[encoded data removed]",
      "text/plain": [
       "<Figure size 640x480 with 1 Axes>"
      ]
     },
     "metadata": {},
     "output_type": "display_data"
    }
   ],
   "source": [
    "sns.kdeplot(data['Date_N'],color='orange',shade=True)"
   ]
  }
 ],
 "metadata": {
  "kernelspec": {
   "display_name": "Python 3.10.5 64-bit",
   "language": "python",
   "name": "python3"
  },
  "language_info": {
   "codemirror_mode": {
    "name": "ipython",
    "version": 3
   },
   "file_extension": ".py",
   "mimetype": "text/x-python",
   "name": "python",
   "nbconvert_exporter": "python",
   "pygments_lexer": "ipython3",
   "version": "3.10.5"
  },
  "orig_nbformat": 4,
  "vscode": {
   "interpreter": {
    "hash": "82b6bf06b6b501257eb135b9ee252cc200a7455be40fdad3ec0c9ee7a69cb675"
   }
  }
 },
 "nbformat": 4,
 "nbformat_minor": 2
}
